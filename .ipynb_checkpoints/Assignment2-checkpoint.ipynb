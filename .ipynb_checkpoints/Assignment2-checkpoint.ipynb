{
 "cells": [
  {
   "cell_type": "markdown",
   "id": "d5a88115-9eab-40e6-96a0-a7e045b2e15d",
   "metadata": {},
   "source": [
    "### Libraries"
   ]
  },
  {
   "cell_type": "code",
   "execution_count": 13,
   "id": "5a0ba072-e01d-4715-a018-463576a6518e",
   "metadata": {},
   "outputs": [],
   "source": [
    "import numpy as np\n",
    "import matplotlib.pyplot as plt\n",
    "%matplotlib inline\n",
    "\n",
    "import seaborn as sns\n",
    "import pandas as pd\n",
    "\n",
    "import warnings\n",
    "warnings.simplefilter(action='ignore', category=FutureWarning)\n",
    "\n",
    "import time\n",
    "\n",
    "from scipy import stats\n",
    "import statsmodels.api as sm\n",
    "from bioinfokit.analys import stat"
   ]
  },
  {
   "cell_type": "markdown",
   "id": "b9ed0915-74d6-4f6b-ab44-a10d98feac2a",
   "metadata": {},
   "source": [
    "### Data Collection"
   ]
  },
  {
   "cell_type": "code",
   "execution_count": 2,
   "id": "7a137812-fb77-4f52-a4d0-fbb392035283",
   "metadata": {},
   "outputs": [
    {
     "data": {
      "text/html": [
       "<div>\n",
       "<style scoped>\n",
       "    .dataframe tbody tr th:only-of-type {\n",
       "        vertical-align: middle;\n",
       "    }\n",
       "\n",
       "    .dataframe tbody tr th {\n",
       "        vertical-align: top;\n",
       "    }\n",
       "\n",
       "    .dataframe thead th {\n",
       "        text-align: right;\n",
       "    }\n",
       "</style>\n",
       "<table border=\"1\" class=\"dataframe\">\n",
       "  <thead>\n",
       "    <tr style=\"text-align: right;\">\n",
       "      <th></th>\n",
       "      <th>Lat</th>\n",
       "      <th>Lon</th>\n",
       "    </tr>\n",
       "    <tr>\n",
       "      <th>People</th>\n",
       "      <th></th>\n",
       "      <th></th>\n",
       "    </tr>\n",
       "  </thead>\n",
       "  <tbody>\n",
       "    <tr>\n",
       "      <th>0</th>\n",
       "      <td>2.868615</td>\n",
       "      <td>101.673326</td>\n",
       "    </tr>\n",
       "    <tr>\n",
       "      <th>1</th>\n",
       "      <td>2.878383</td>\n",
       "      <td>101.607508</td>\n",
       "    </tr>\n",
       "    <tr>\n",
       "      <th>2</th>\n",
       "      <td>2.871754</td>\n",
       "      <td>101.599514</td>\n",
       "    </tr>\n",
       "    <tr>\n",
       "      <th>3</th>\n",
       "      <td>3.027363</td>\n",
       "      <td>101.652546</td>\n",
       "    </tr>\n",
       "    <tr>\n",
       "      <th>4</th>\n",
       "      <td>2.997368</td>\n",
       "      <td>101.626043</td>\n",
       "    </tr>\n",
       "  </tbody>\n",
       "</table>\n",
       "</div>"
      ],
      "text/plain": [
       "             Lat         Lon\n",
       "People                      \n",
       "0       2.868615  101.673326\n",
       "1       2.878383  101.607508\n",
       "2       2.871754  101.599514\n",
       "3       3.027363  101.652546\n",
       "4       2.997368  101.626043"
      ]
     },
     "execution_count": 2,
     "metadata": {},
     "output_type": "execute_result"
    }
   ],
   "source": [
    "people = pd.read_csv(\"people.csv\", index_col=0)\n",
    "people.head()"
   ]
  },
  {
   "cell_type": "code",
   "execution_count": 3,
   "id": "e22db816-0579-47b5-a3bf-2c23790fd70f",
   "metadata": {},
   "outputs": [
    {
     "data": {
      "text/html": [
       "<div>\n",
       "<style scoped>\n",
       "    .dataframe tbody tr th:only-of-type {\n",
       "        vertical-align: middle;\n",
       "    }\n",
       "\n",
       "    .dataframe tbody tr th {\n",
       "        vertical-align: top;\n",
       "    }\n",
       "\n",
       "    .dataframe thead th {\n",
       "        text-align: right;\n",
       "    }\n",
       "</style>\n",
       "<table border=\"1\" class=\"dataframe\">\n",
       "  <thead>\n",
       "    <tr style=\"text-align: right;\">\n",
       "      <th></th>\n",
       "      <th>Lat</th>\n",
       "      <th>Lon</th>\n",
       "    </tr>\n",
       "    <tr>\n",
       "      <th>PPV</th>\n",
       "      <th></th>\n",
       "      <th></th>\n",
       "    </tr>\n",
       "  </thead>\n",
       "  <tbody>\n",
       "    <tr>\n",
       "      <th>0</th>\n",
       "      <td>2.864831</td>\n",
       "      <td>101.694876</td>\n",
       "    </tr>\n",
       "    <tr>\n",
       "      <th>1</th>\n",
       "      <td>3.311896</td>\n",
       "      <td>101.585703</td>\n",
       "    </tr>\n",
       "    <tr>\n",
       "      <th>2</th>\n",
       "      <td>3.020707</td>\n",
       "      <td>101.650831</td>\n",
       "    </tr>\n",
       "    <tr>\n",
       "      <th>3</th>\n",
       "      <td>3.096667</td>\n",
       "      <td>101.706738</td>\n",
       "    </tr>\n",
       "    <tr>\n",
       "      <th>4</th>\n",
       "      <td>3.263520</td>\n",
       "      <td>101.470738</td>\n",
       "    </tr>\n",
       "  </tbody>\n",
       "</table>\n",
       "</div>"
      ],
      "text/plain": [
       "          Lat         Lon\n",
       "PPV                      \n",
       "0    2.864831  101.694876\n",
       "1    3.311896  101.585703\n",
       "2    3.020707  101.650831\n",
       "3    3.096667  101.706738\n",
       "4    3.263520  101.470738"
      ]
     },
     "execution_count": 3,
     "metadata": {},
     "output_type": "execute_result"
    }
   ],
   "source": [
    "ppv = pd.read_csv(\"ppv.csv\", index_col=0)\n",
    "ppv.head()"
   ]
  },
  {
   "cell_type": "markdown",
   "id": "214a2d4d-6e92-4422-9945-ea3427e3c4f8",
   "metadata": {},
   "source": [
    "### Method 1"
   ]
  },
  {
   "cell_type": "code",
   "execution_count": 4,
   "id": "0f077436-97d1-4d68-b540-f1a6e87e0999",
   "metadata": {},
   "outputs": [],
   "source": [
    "def nearest_ppv(df_1, df_2):\n",
    "    people_lat = np.array(df_1['Lat'].tolist())\n",
    "    people_lon = np.array(df_1['Lon'].tolist())\n",
    "    ppv_lat = np.array(df_2['Lat'].tolist())\n",
    "    ppv_lon = np.array(df_2['Lon'].tolist())\n",
    "    people_lat = np.deg2rad(people_lat)\n",
    "    people_lon = np.deg2rad(people_lon)\n",
    "    ppv_lat = np.deg2rad(ppv_lat)\n",
    "    ppv_lon = np.deg2rad(ppv_lon)\n",
    "    diff_lat = people_lat[:,None] - ppv_lat[:]\n",
    "    diff_lng = people_lon[:,None] - ppv_lon[:]\n",
    "    d = np.sin(diff_lat/2)**2 + np.cos(people_lat[:,None])*np.cos(ppv_lat[:]) * np.sin(diff_lng/2)**2\n",
    "    return 2 * 6371 * np.arcsin(np.sqrt(d))"
   ]
  },
  {
   "cell_type": "code",
   "execution_count": 5,
   "id": "35385eb8-44d6-42d3-9176-9294e7a01294",
   "metadata": {},
   "outputs": [],
   "source": [
    "execution_time = {}\n",
    "for n in range(50):\n",
    "    # get the start time\n",
    "    st = time.time()\n",
    "\n",
    "    people[\"nearest_ppv_1\"] = ppv.loc[ppv.index[np.argmin(nearest_ppv(people, ppv), axis=1)]].index\n",
    "    people.head()\n",
    "\n",
    "    # get the end time\n",
    "    et = time.time()\n",
    "\n",
    "    # get the execution time\n",
    "    elapsed_time = et - st\n",
    "    execution_time[n+1] = elapsed_time"
   ]
  },
  {
   "cell_type": "code",
   "execution_count": 6,
   "id": "77f3565a-7af5-4d50-bbbd-9c5cbeda33a1",
   "metadata": {},
   "outputs": [],
   "source": [
    "df_execution_time = pd.DataFrame.from_dict(execution_time, orient='index', columns=['time_1'])"
   ]
  },
  {
   "cell_type": "markdown",
   "id": "31a2694f-9b98-4297-b5f3-62bc990e51f3",
   "metadata": {},
   "source": [
    "### Testing"
   ]
  },
  {
   "cell_type": "code",
   "execution_count": 7,
   "id": "21830289-e012-4cd6-8ecf-e9a2aa6f4185",
   "metadata": {},
   "outputs": [],
   "source": [
    "df_1 = pd.DataFrame({\"ID\": [1, 2], \n",
    "                     \"lat\": [-2.0, -0.5],\n",
    "                    \"lon\": [0.0, 0.0]})\n",
    "df_1.set_index(\"ID\", inplace=True)\n",
    "df_2 = pd.DataFrame({\"Name\": [\"A\", \"B\", \"C\"], \n",
    "                     \"lat\": [1.0, 0.0,-2.0],\n",
    "                    \"lon\": [0.0, 0.0, 0.0]})\n",
    "df_2.set_index(\"Name\", inplace=True)"
   ]
  },
  {
   "cell_type": "code",
   "execution_count": 8,
   "id": "c2176b96-2540-4f26-89c0-9cec86d5405d",
   "metadata": {},
   "outputs": [],
   "source": [
    "def min_distance(df_1, df_2):\n",
    "    df_1_lat = np.array(df_1['lat'].tolist())\n",
    "    df_1_lon = np.array(df_1['lon'].tolist())\n",
    "    df_2_lat = np.array(df_2['lat'].tolist())\n",
    "    df_2_lon = np.array(df_2['lon'].tolist())\n",
    "    diff_lat = df_1_lat[:,None] - df_2_lat[:]\n",
    "    diff_lng = df_1_lon[:,None] - df_2_lon[:]\n",
    "    d = (diff_lat/2)**2 + (diff_lng/2)**2\n",
    "    return (np.sqrt(d))"
   ]
  },
  {
   "cell_type": "code",
   "execution_count": 9,
   "id": "a39fdae9-cbe5-4346-b4cd-682f87e3be8a",
   "metadata": {},
   "outputs": [
    {
     "data": {
      "text/html": [
       "<div>\n",
       "<style scoped>\n",
       "    .dataframe tbody tr th:only-of-type {\n",
       "        vertical-align: middle;\n",
       "    }\n",
       "\n",
       "    .dataframe tbody tr th {\n",
       "        vertical-align: top;\n",
       "    }\n",
       "\n",
       "    .dataframe thead th {\n",
       "        text-align: right;\n",
       "    }\n",
       "</style>\n",
       "<table border=\"1\" class=\"dataframe\">\n",
       "  <thead>\n",
       "    <tr style=\"text-align: right;\">\n",
       "      <th></th>\n",
       "      <th>lat</th>\n",
       "      <th>lon</th>\n",
       "      <th>min_dist</th>\n",
       "    </tr>\n",
       "    <tr>\n",
       "      <th>ID</th>\n",
       "      <th></th>\n",
       "      <th></th>\n",
       "      <th></th>\n",
       "    </tr>\n",
       "  </thead>\n",
       "  <tbody>\n",
       "    <tr>\n",
       "      <th>1</th>\n",
       "      <td>-2.0</td>\n",
       "      <td>0.0</td>\n",
       "      <td>C</td>\n",
       "    </tr>\n",
       "    <tr>\n",
       "      <th>2</th>\n",
       "      <td>-0.5</td>\n",
       "      <td>0.0</td>\n",
       "      <td>B</td>\n",
       "    </tr>\n",
       "  </tbody>\n",
       "</table>\n",
       "</div>"
      ],
      "text/plain": [
       "    lat  lon min_dist\n",
       "ID                   \n",
       "1  -2.0  0.0        C\n",
       "2  -0.5  0.0        B"
      ]
     },
     "execution_count": 9,
     "metadata": {},
     "output_type": "execute_result"
    }
   ],
   "source": [
    "df_1[\"min_dist\"] = df_2.loc[df_2.index[np.argmin(min_distance(df_1, df_2), axis=1)]].index\n",
    "df_1.head()"
   ]
  },
  {
   "cell_type": "markdown",
   "id": "8ea2adea-2efe-41b2-b5a5-acb7e7279955",
   "metadata": {},
   "source": [
    "### Method 2"
   ]
  },
  {
   "cell_type": "code",
   "execution_count": 10,
   "id": "648efec0-3fd6-4298-a8c0-fe920a274384",
   "metadata": {},
   "outputs": [],
   "source": [
    "execution_time = {}\n",
    "for n in range(50):\n",
    "    # get the start time\n",
    "    st = time.time()\n",
    "    \n",
    "    people_to_ppv = []\n",
    "    for i in range(len(people)):\n",
    "        dist = []\n",
    "        people_lat = people.loc[i, 'Lat']\n",
    "        people_lon = people.loc[i, 'Lon']\n",
    "        people_lat = np.deg2rad(people_lat)\n",
    "        people_lon = np.deg2rad(people_lon)\n",
    "        for j in range(len(ppv)):\n",
    "            ppv_lat = ppv.loc[j, 'Lat']\n",
    "            ppv_lon = ppv.loc[j, 'Lon']\n",
    "            ppv_lat = np.deg2rad(ppv_lat)\n",
    "            ppv_lon = np.deg2rad(ppv_lon)\n",
    "            diff_lat = people_lat - ppv_lat\n",
    "            diff_lng = people_lon - ppv_lon\n",
    "            d = np.sin(diff_lat/2)**2 + np.cos(people_lat)*np.cos(ppv_lat) * np.sin(diff_lng/2)**2\n",
    "            dist.append(2 * 6371 * np.arcsin(np.sqrt(d)))\n",
    "            if j+1 == len(ppv):\n",
    "                people_to_ppv.append(np.argmin(dist))\n",
    "    \n",
    "    # get the end time\n",
    "    et = time.time()\n",
    "\n",
    "    # get the execution time\n",
    "    elapsed_time = et - st\n",
    "    execution_time[n+1] = elapsed_time"
   ]
  },
  {
   "cell_type": "code",
   "execution_count": 11,
   "id": "b5879b40-40da-4b81-998a-ace9567f7c0b",
   "metadata": {},
   "outputs": [
    {
     "data": {
      "text/html": [
       "<div>\n",
       "<style scoped>\n",
       "    .dataframe tbody tr th:only-of-type {\n",
       "        vertical-align: middle;\n",
       "    }\n",
       "\n",
       "    .dataframe tbody tr th {\n",
       "        vertical-align: top;\n",
       "    }\n",
       "\n",
       "    .dataframe thead th {\n",
       "        text-align: right;\n",
       "    }\n",
       "</style>\n",
       "<table border=\"1\" class=\"dataframe\">\n",
       "  <thead>\n",
       "    <tr style=\"text-align: right;\">\n",
       "      <th></th>\n",
       "      <th>Lat</th>\n",
       "      <th>Lon</th>\n",
       "      <th>nearest_ppv_1</th>\n",
       "      <th>nearest_ppv_2</th>\n",
       "    </tr>\n",
       "    <tr>\n",
       "      <th>People</th>\n",
       "      <th></th>\n",
       "      <th></th>\n",
       "      <th></th>\n",
       "      <th></th>\n",
       "    </tr>\n",
       "  </thead>\n",
       "  <tbody>\n",
       "    <tr>\n",
       "      <th>0</th>\n",
       "      <td>2.868615</td>\n",
       "      <td>101.673326</td>\n",
       "      <td>0</td>\n",
       "      <td>0</td>\n",
       "    </tr>\n",
       "    <tr>\n",
       "      <th>1</th>\n",
       "      <td>2.878383</td>\n",
       "      <td>101.607508</td>\n",
       "      <td>44</td>\n",
       "      <td>44</td>\n",
       "    </tr>\n",
       "    <tr>\n",
       "      <th>2</th>\n",
       "      <td>2.871754</td>\n",
       "      <td>101.599514</td>\n",
       "      <td>44</td>\n",
       "      <td>44</td>\n",
       "    </tr>\n",
       "    <tr>\n",
       "      <th>3</th>\n",
       "      <td>3.027363</td>\n",
       "      <td>101.652546</td>\n",
       "      <td>2</td>\n",
       "      <td>2</td>\n",
       "    </tr>\n",
       "    <tr>\n",
       "      <th>4</th>\n",
       "      <td>2.997368</td>\n",
       "      <td>101.626043</td>\n",
       "      <td>19</td>\n",
       "      <td>19</td>\n",
       "    </tr>\n",
       "  </tbody>\n",
       "</table>\n",
       "</div>"
      ],
      "text/plain": [
       "             Lat         Lon  nearest_ppv_1  nearest_ppv_2\n",
       "People                                                    \n",
       "0       2.868615  101.673326              0              0\n",
       "1       2.878383  101.607508             44             44\n",
       "2       2.871754  101.599514             44             44\n",
       "3       3.027363  101.652546              2              2\n",
       "4       2.997368  101.626043             19             19"
      ]
     },
     "execution_count": 11,
     "metadata": {},
     "output_type": "execute_result"
    }
   ],
   "source": [
    "people[\"nearest_ppv_2\"] = ppv.loc[ppv.index[np.array(people_to_ppv)]].index\n",
    "people.head()"
   ]
  },
  {
   "cell_type": "code",
   "execution_count": 12,
   "id": "55518c29-3c7f-40d0-8b1d-2f6eac2c8669",
   "metadata": {},
   "outputs": [
    {
     "data": {
      "text/html": [
       "<div>\n",
       "<style scoped>\n",
       "    .dataframe tbody tr th:only-of-type {\n",
       "        vertical-align: middle;\n",
       "    }\n",
       "\n",
       "    .dataframe tbody tr th {\n",
       "        vertical-align: top;\n",
       "    }\n",
       "\n",
       "    .dataframe thead th {\n",
       "        text-align: right;\n",
       "    }\n",
       "</style>\n",
       "<table border=\"1\" class=\"dataframe\">\n",
       "  <thead>\n",
       "    <tr style=\"text-align: right;\">\n",
       "      <th></th>\n",
       "      <th>time_1</th>\n",
       "      <th>time_2</th>\n",
       "    </tr>\n",
       "  </thead>\n",
       "  <tbody>\n",
       "    <tr>\n",
       "      <th>1</th>\n",
       "      <td>0.113695</td>\n",
       "      <td>39.156552</td>\n",
       "    </tr>\n",
       "    <tr>\n",
       "      <th>2</th>\n",
       "      <td>0.100732</td>\n",
       "      <td>38.281568</td>\n",
       "    </tr>\n",
       "    <tr>\n",
       "      <th>3</th>\n",
       "      <td>0.104717</td>\n",
       "      <td>36.926449</td>\n",
       "    </tr>\n",
       "    <tr>\n",
       "      <th>4</th>\n",
       "      <td>0.084774</td>\n",
       "      <td>36.639781</td>\n",
       "    </tr>\n",
       "    <tr>\n",
       "      <th>5</th>\n",
       "      <td>0.096742</td>\n",
       "      <td>36.750268</td>\n",
       "    </tr>\n",
       "  </tbody>\n",
       "</table>\n",
       "</div>"
      ],
      "text/plain": [
       "     time_1     time_2\n",
       "1  0.113695  39.156552\n",
       "2  0.100732  38.281568\n",
       "3  0.104717  36.926449\n",
       "4  0.084774  36.639781\n",
       "5  0.096742  36.750268"
      ]
     },
     "execution_count": 12,
     "metadata": {},
     "output_type": "execute_result"
    }
   ],
   "source": [
    "df_execution_time[\"time_2\"] = execution_time.values()\n",
    "df_execution_time.head()"
   ]
  },
  {
   "cell_type": "markdown",
   "id": "f4a6425f-ea09-4ae0-aad5-4132283903d3",
   "metadata": {},
   "source": [
    "### Method 3"
   ]
  },
  {
   "cell_type": "code",
   "execution_count": 13,
   "id": "3e61a022-5667-49da-a857-44722b2691e3",
   "metadata": {},
   "outputs": [],
   "source": [
    "execution_time = {}\n",
    "for n in range(50):\n",
    "    # get the start time\n",
    "    st = time.time()\n",
    "    \n",
    "    people_to_ppv = np.empty(len(people), dtype=int)\n",
    "    i = 0\n",
    "    while i < len(people):\n",
    "        dist = np.empty(len(ppv))\n",
    "        people_lat = people.loc[i, 'Lat']\n",
    "        people_lon = people.loc[i, 'Lon']\n",
    "        people_lat = np.deg2rad(people_lat)\n",
    "        people_lon = np.deg2rad(people_lon)\n",
    "        i += 1 \n",
    "        j = 0\n",
    "        while j < len(ppv):\n",
    "            ppv_lat = ppv.loc[j, 'Lat']\n",
    "            ppv_lon = ppv.loc[j, 'Lon']\n",
    "            ppv_lat = np.deg2rad(ppv_lat)\n",
    "            ppv_lon = np.deg2rad(ppv_lon)\n",
    "            diff_lat = people_lat - ppv_lat\n",
    "            diff_lng = people_lon - ppv_lon\n",
    "            d = np.sin(diff_lat/2)**2 + np.cos(people_lat)*np.cos(ppv_lat) * np.sin(diff_lng/2)**2\n",
    "            dist[j] = 2 * 6371 * np.arcsin(np.sqrt(d))\n",
    "            j += 1\n",
    "            if j == len(ppv):\n",
    "                people_to_ppv[i-1] = np.argmin(dist)\n",
    "            \n",
    "    # get the end time\n",
    "    et = time.time()\n",
    "\n",
    "    # get the execution time\n",
    "    elapsed_time = et - st\n",
    "    execution_time[n+1] = elapsed_time"
   ]
  },
  {
   "cell_type": "code",
   "execution_count": 14,
   "id": "27fca01e-5089-4d10-aebd-ae080e4b4172",
   "metadata": {},
   "outputs": [
    {
     "data": {
      "text/html": [
       "<div>\n",
       "<style scoped>\n",
       "    .dataframe tbody tr th:only-of-type {\n",
       "        vertical-align: middle;\n",
       "    }\n",
       "\n",
       "    .dataframe tbody tr th {\n",
       "        vertical-align: top;\n",
       "    }\n",
       "\n",
       "    .dataframe thead th {\n",
       "        text-align: right;\n",
       "    }\n",
       "</style>\n",
       "<table border=\"1\" class=\"dataframe\">\n",
       "  <thead>\n",
       "    <tr style=\"text-align: right;\">\n",
       "      <th></th>\n",
       "      <th>Lat</th>\n",
       "      <th>Lon</th>\n",
       "      <th>nearest_ppv_1</th>\n",
       "      <th>nearest_ppv_2</th>\n",
       "      <th>nearest_ppv_3</th>\n",
       "    </tr>\n",
       "    <tr>\n",
       "      <th>People</th>\n",
       "      <th></th>\n",
       "      <th></th>\n",
       "      <th></th>\n",
       "      <th></th>\n",
       "      <th></th>\n",
       "    </tr>\n",
       "  </thead>\n",
       "  <tbody>\n",
       "    <tr>\n",
       "      <th>0</th>\n",
       "      <td>2.868615</td>\n",
       "      <td>101.673326</td>\n",
       "      <td>0</td>\n",
       "      <td>0</td>\n",
       "      <td>0</td>\n",
       "    </tr>\n",
       "    <tr>\n",
       "      <th>1</th>\n",
       "      <td>2.878383</td>\n",
       "      <td>101.607508</td>\n",
       "      <td>44</td>\n",
       "      <td>44</td>\n",
       "      <td>44</td>\n",
       "    </tr>\n",
       "    <tr>\n",
       "      <th>2</th>\n",
       "      <td>2.871754</td>\n",
       "      <td>101.599514</td>\n",
       "      <td>44</td>\n",
       "      <td>44</td>\n",
       "      <td>44</td>\n",
       "    </tr>\n",
       "    <tr>\n",
       "      <th>3</th>\n",
       "      <td>3.027363</td>\n",
       "      <td>101.652546</td>\n",
       "      <td>2</td>\n",
       "      <td>2</td>\n",
       "      <td>2</td>\n",
       "    </tr>\n",
       "    <tr>\n",
       "      <th>4</th>\n",
       "      <td>2.997368</td>\n",
       "      <td>101.626043</td>\n",
       "      <td>19</td>\n",
       "      <td>19</td>\n",
       "      <td>19</td>\n",
       "    </tr>\n",
       "  </tbody>\n",
       "</table>\n",
       "</div>"
      ],
      "text/plain": [
       "             Lat         Lon  nearest_ppv_1  nearest_ppv_2  nearest_ppv_3\n",
       "People                                                                   \n",
       "0       2.868615  101.673326              0              0              0\n",
       "1       2.878383  101.607508             44             44             44\n",
       "2       2.871754  101.599514             44             44             44\n",
       "3       3.027363  101.652546              2              2              2\n",
       "4       2.997368  101.626043             19             19             19"
      ]
     },
     "execution_count": 14,
     "metadata": {},
     "output_type": "execute_result"
    }
   ],
   "source": [
    "people[\"nearest_ppv_3\"] = ppv.loc[ppv.index[people_to_ppv]].index\n",
    "people.head()"
   ]
  },
  {
   "cell_type": "code",
   "execution_count": 15,
   "id": "7b35a1ba-3978-4c34-90b5-9f88eca596ac",
   "metadata": {},
   "outputs": [
    {
     "data": {
      "text/html": [
       "<div>\n",
       "<style scoped>\n",
       "    .dataframe tbody tr th:only-of-type {\n",
       "        vertical-align: middle;\n",
       "    }\n",
       "\n",
       "    .dataframe tbody tr th {\n",
       "        vertical-align: top;\n",
       "    }\n",
       "\n",
       "    .dataframe thead th {\n",
       "        text-align: right;\n",
       "    }\n",
       "</style>\n",
       "<table border=\"1\" class=\"dataframe\">\n",
       "  <thead>\n",
       "    <tr style=\"text-align: right;\">\n",
       "      <th></th>\n",
       "      <th>time_1</th>\n",
       "      <th>time_2</th>\n",
       "      <th>time_3</th>\n",
       "    </tr>\n",
       "  </thead>\n",
       "  <tbody>\n",
       "    <tr>\n",
       "      <th>1</th>\n",
       "      <td>0.113695</td>\n",
       "      <td>39.156552</td>\n",
       "      <td>39.388780</td>\n",
       "    </tr>\n",
       "    <tr>\n",
       "      <th>2</th>\n",
       "      <td>0.100732</td>\n",
       "      <td>38.281568</td>\n",
       "      <td>39.877739</td>\n",
       "    </tr>\n",
       "    <tr>\n",
       "      <th>3</th>\n",
       "      <td>0.104717</td>\n",
       "      <td>36.926449</td>\n",
       "      <td>38.377762</td>\n",
       "    </tr>\n",
       "    <tr>\n",
       "      <th>4</th>\n",
       "      <td>0.084774</td>\n",
       "      <td>36.639781</td>\n",
       "      <td>38.433608</td>\n",
       "    </tr>\n",
       "    <tr>\n",
       "      <th>5</th>\n",
       "      <td>0.096742</td>\n",
       "      <td>36.750268</td>\n",
       "      <td>31.209757</td>\n",
       "    </tr>\n",
       "  </tbody>\n",
       "</table>\n",
       "</div>"
      ],
      "text/plain": [
       "     time_1     time_2     time_3\n",
       "1  0.113695  39.156552  39.388780\n",
       "2  0.100732  38.281568  39.877739\n",
       "3  0.104717  36.926449  38.377762\n",
       "4  0.084774  36.639781  38.433608\n",
       "5  0.096742  36.750268  31.209757"
      ]
     },
     "execution_count": 15,
     "metadata": {},
     "output_type": "execute_result"
    }
   ],
   "source": [
    "df_execution_time[\"time_3\"] = execution_time.values()\n",
    "df_execution_time.head()"
   ]
  },
  {
   "cell_type": "code",
   "execution_count": 16,
   "id": "84d968bc-5f6f-4ce1-bae5-e20d03f1f88d",
   "metadata": {},
   "outputs": [],
   "source": [
    "people.to_csv('people_to_ppv.csv')"
   ]
  },
  {
   "cell_type": "code",
   "execution_count": 17,
   "id": "615f0dd7-8e49-41e8-8439-19c4f6887583",
   "metadata": {},
   "outputs": [],
   "source": [
    "df_execution_time.to_csv('execution_time.csv')"
   ]
  },
  {
   "cell_type": "markdown",
   "id": "d93ba882-05b9-47f4-909d-0cb44f24a330",
   "metadata": {},
   "source": [
    "### Shaded Density Plot"
   ]
  },
  {
   "cell_type": "code",
   "execution_count": 23,
   "id": "90d85df2-43cb-4693-adf2-a58b14209640",
   "metadata": {},
   "outputs": [
    {
     "data": {
      "text/html": [
       "<div>\n",
       "<style scoped>\n",
       "    .dataframe tbody tr th:only-of-type {\n",
       "        vertical-align: middle;\n",
       "    }\n",
       "\n",
       "    .dataframe tbody tr th {\n",
       "        vertical-align: top;\n",
       "    }\n",
       "\n",
       "    .dataframe thead th {\n",
       "        text-align: right;\n",
       "    }\n",
       "</style>\n",
       "<table border=\"1\" class=\"dataframe\">\n",
       "  <thead>\n",
       "    <tr style=\"text-align: right;\">\n",
       "      <th></th>\n",
       "      <th>time_1</th>\n",
       "      <th>method</th>\n",
       "    </tr>\n",
       "  </thead>\n",
       "  <tbody>\n",
       "    <tr>\n",
       "      <th>1</th>\n",
       "      <td>0.113695</td>\n",
       "      <td>1</td>\n",
       "    </tr>\n",
       "    <tr>\n",
       "      <th>2</th>\n",
       "      <td>0.100732</td>\n",
       "      <td>1</td>\n",
       "    </tr>\n",
       "    <tr>\n",
       "      <th>3</th>\n",
       "      <td>0.104717</td>\n",
       "      <td>1</td>\n",
       "    </tr>\n",
       "    <tr>\n",
       "      <th>4</th>\n",
       "      <td>0.084774</td>\n",
       "      <td>1</td>\n",
       "    </tr>\n",
       "    <tr>\n",
       "      <th>5</th>\n",
       "      <td>0.096742</td>\n",
       "      <td>1</td>\n",
       "    </tr>\n",
       "  </tbody>\n",
       "</table>\n",
       "</div>"
      ],
      "text/plain": [
       "     time_1  method\n",
       "1  0.113695       1\n",
       "2  0.100732       1\n",
       "3  0.104717       1\n",
       "4  0.084774       1\n",
       "5  0.096742       1"
      ]
     },
     "execution_count": 23,
     "metadata": {},
     "output_type": "execute_result"
    }
   ],
   "source": [
    "df = pd.read_csv('execution_time.csv', index_col=0)\n",
    "df.head()"
   ]
  },
  {
   "cell_type": "code",
   "execution_count": 8,
   "id": "8aa22fad-48e4-47eb-a16e-559b01047736",
   "metadata": {},
   "outputs": [],
   "source": [
    "df_1 = df['time_1']\n",
    "df_2 = df['time_2']\n",
    "df_3 = df['time_3']"
   ]
  },
  {
   "cell_type": "code",
   "execution_count": 11,
   "id": "c019863c-af24-445f-88e6-f8bf2b06dfda",
   "metadata": {},
   "outputs": [
    {
     "name": "stdout",
     "output_type": "stream",
     "text": [
      "0.002584347172148318 0.41364445268713146 46.5427376399674\n"
     ]
    }
   ],
   "source": [
    "print(np.var(df_1), np.var(df_2), np.var(df_3))"
   ]
  },
  {
   "cell_type": "code",
   "execution_count": 14,
   "id": "233c2046-5bbe-43c9-9730-796c8e96d331",
   "metadata": {},
   "outputs": [
    {
     "data": {
      "text/plain": [
       "Ttest_indResult(statistic=-408.87603901864696, pvalue=3.364867498477833e-160)"
      ]
     },
     "execution_count": 17,
     "metadata": {},
     "output_type": "execute_result"
    }
   ],
   "source": [
    "stats.ttest_ind(a=df_1, b=df_2, equal_var=True)"
   ]
  },
  {
   "cell_type": "code",
   "execution_count": 18,
   "id": "3aff5392-4e1d-4f2e-8f74-eb66b96e65ad",
   "metadata": {},
   "outputs": [
    {
     "data": {
      "text/plain": [
       "Ttest_indResult(statistic=-43.03606840164349, pvalue=1.3522013764077375e-40)"
      ]
     },
     "execution_count": 18,
     "metadata": {},
     "output_type": "execute_result"
    }
   ],
   "source": [
    "stats.ttest_ind(a=df_1, b=df_3, equal_var=False)"
   ]
  },
  {
   "cell_type": "code",
   "execution_count": 19,
   "id": "ee901bd0-61bb-41cc-ac3c-2816a76cccbc",
   "metadata": {},
   "outputs": [
    {
     "data": {
      "text/plain": [
       "Ttest_indResult(statistic=-4.351744184167847, pvalue=6.687894604233358e-05)"
      ]
     },
     "execution_count": 19,
     "metadata": {},
     "output_type": "execute_result"
    }
   ],
   "source": [
    "stats.ttest_ind(a=df_2, b=df_3, equal_var=False)"
   ]
  },
  {
   "cell_type": "code",
   "execution_count": 25,
   "id": "91f694b4-97f1-4cb8-a9fd-a385adf75991",
   "metadata": {},
   "outputs": [
    {
     "name": "stdout",
     "output_type": "stream",
     "text": [
      "ShapiroResult(statistic=0.43733298778533936, pvalue=1.4154577033034799e-12)\n",
      "ShapiroResult(statistic=0.9295313358306885, pvalue=0.005304986611008644)\n",
      "ShapiroResult(statistic=0.7026007771492004, pvalue=9.217567153996242e-09)\n"
     ]
    },
    {
     "data": {
      "text/plain": [
       "<seaborn.axisgrid.FacetGrid at 0x22176e44130>"
      ]
     },
     "execution_count": 25,
     "metadata": {},
     "output_type": "execute_result"
    },
    {
     "data": {
      "image/png": "[encoded data removed]",
      "text/plain": [
       "<Figure size 648x216 with 3 Axes>"
      ]
     },
     "metadata": {
      "needs_background": "light"
     },
     "output_type": "display_data"
    }
   ],
   "source": [
    "print(stats.shapiro(df.loc[df.method==1,'time_1']))\n",
    "print(stats.shapiro(df.loc[df.method==2,'time_1']))\n",
    "print(stats.shapiro(df.loc[df.method==3,'time_1']))\n",
    "\n",
    "sns.displot(\n",
    "    df, x=\"time_1\", col=\"method\",\n",
    "    binwidth=3, height=3, facet_kws=dict(margin_titles=True))"
   ]
  },
  {
   "cell_type": "code",
   "execution_count": 26,
   "id": "8db21c42-b95a-4fb8-86b8-2c10faa9180f",
   "metadata": {},
   "outputs": [
    {
     "data": {
      "text/html": [
       "<div>\n",
       "<style scoped>\n",
       "    .dataframe tbody tr th:only-of-type {\n",
       "        vertical-align: middle;\n",
       "    }\n",
       "\n",
       "    .dataframe tbody tr th {\n",
       "        vertical-align: top;\n",
       "    }\n",
       "\n",
       "    .dataframe thead th {\n",
       "        text-align: right;\n",
       "    }\n",
       "</style>\n",
       "<table border=\"1\" class=\"dataframe\">\n",
       "  <thead>\n",
       "    <tr style=\"text-align: right;\">\n",
       "      <th></th>\n",
       "      <th>sum_sq</th>\n",
       "      <th>df</th>\n",
       "      <th>F</th>\n",
       "      <th>PR(&gt;F)</th>\n",
       "    </tr>\n",
       "  </thead>\n",
       "  <tbody>\n",
       "    <tr>\n",
       "      <th>C(method)</th>\n",
       "      <td>53292.841659</td>\n",
       "      <td>2.0</td>\n",
       "      <td>1668.27516</td>\n",
       "      <td>9.103337e-102</td>\n",
       "    </tr>\n",
       "    <tr>\n",
       "      <th>Residual</th>\n",
       "      <td>2347.948322</td>\n",
       "      <td>147.0</td>\n",
       "      <td>NaN</td>\n",
       "      <td>NaN</td>\n",
       "    </tr>\n",
       "  </tbody>\n",
       "</table>\n",
       "</div>"
      ],
      "text/plain": [
       "                 sum_sq     df           F         PR(>F)\n",
       "C(method)  53292.841659    2.0  1668.27516  9.103337e-102\n",
       "Residual    2347.948322  147.0         NaN            NaN"
      ]
     },
     "execution_count": 26,
     "metadata": {},
     "output_type": "execute_result"
    }
   ],
   "source": [
    "model = ols('time_1 ~ C(method)', data=df).fit()\n",
    "anova_table = sm.stats.anova_lm(model, typ=2)\n",
    "anova_table"
   ]
  },
  {
   "cell_type": "code",
   "execution_count": 27,
   "id": "fe1dd65d-928a-4f7f-8ef7-816e1425b9ba",
   "metadata": {},
   "outputs": [
    {
     "data": {
      "text/html": [
       "<div>\n",
       "<style scoped>\n",
       "    .dataframe tbody tr th:only-of-type {\n",
       "        vertical-align: middle;\n",
       "    }\n",
       "\n",
       "    .dataframe tbody tr th {\n",
       "        vertical-align: top;\n",
       "    }\n",
       "\n",
       "    .dataframe thead th {\n",
       "        text-align: right;\n",
       "    }\n",
       "</style>\n",
       "<table border=\"1\" class=\"dataframe\">\n",
       "  <thead>\n",
       "    <tr style=\"text-align: right;\">\n",
       "      <th></th>\n",
       "      <th>group1</th>\n",
       "      <th>group2</th>\n",
       "      <th>Diff</th>\n",
       "      <th>Lower</th>\n",
       "      <th>Upper</th>\n",
       "      <th>q-value</th>\n",
       "      <th>p-value</th>\n",
       "    </tr>\n",
       "  </thead>\n",
       "  <tbody>\n",
       "    <tr>\n",
       "      <th>0</th>\n",
       "      <td>1</td>\n",
       "      <td>2</td>\n",
       "      <td>37.684233</td>\n",
       "      <td>35.791567</td>\n",
       "      <td>39.576900</td>\n",
       "      <td>66.674395</td>\n",
       "      <td>0.001</td>\n",
       "    </tr>\n",
       "    <tr>\n",
       "      <th>1</th>\n",
       "      <td>1</td>\n",
       "      <td>3</td>\n",
       "      <td>41.944263</td>\n",
       "      <td>40.051597</td>\n",
       "      <td>43.836929</td>\n",
       "      <td>74.211630</td>\n",
       "      <td>0.001</td>\n",
       "    </tr>\n",
       "    <tr>\n",
       "      <th>2</th>\n",
       "      <td>2</td>\n",
       "      <td>3</td>\n",
       "      <td>4.260030</td>\n",
       "      <td>2.367363</td>\n",
       "      <td>6.152696</td>\n",
       "      <td>7.537235</td>\n",
       "      <td>0.001</td>\n",
       "    </tr>\n",
       "  </tbody>\n",
       "</table>\n",
       "</div>"
      ],
      "text/plain": [
       "   group1  group2       Diff      Lower      Upper    q-value  p-value\n",
       "0       1       2  37.684233  35.791567  39.576900  66.674395    0.001\n",
       "1       1       3  41.944263  40.051597  43.836929  74.211630    0.001\n",
       "2       2       3   4.260030   2.367363   6.152696   7.537235    0.001"
      ]
     },
     "execution_count": 27,
     "metadata": {},
     "output_type": "execute_result"
    }
   ],
   "source": [
    "res = stat()\n",
    "# Your codes here...\n",
    "\n",
    "res.tukey_hsd(df=df, res_var='time_1', xfac_var='method', anova_model='time_1 ~ C(method)')\n",
    "res.tukey_summary"
   ]
  },
  {
   "cell_type": "code",
   "execution_count": 55,
   "id": "ff6e16f2-d9d8-433c-827e-0a20d5769647",
   "metadata": {},
   "outputs": [
    {
     "data": {
      "image/png": "[encoded data removed]",
      "text/plain": [
       "<Figure size 432x288 with 1 Axes>"
      ]
     },
     "metadata": {
      "needs_background": "light"
     },
     "output_type": "display_data"
    }
   ],
   "source": [
    "sns.kdeplot(df['time_1'], shade=True).set(title='Method 1 Execution Time Density Plot')\n",
    "plt.show()"
   ]
  },
  {
   "cell_type": "code",
   "execution_count": 56,
   "id": "52b6b58c-4a04-4266-9e5c-41710d3cb7c1",
   "metadata": {},
   "outputs": [
    {
     "data": {
      "image/png": "[encoded data removed]",
      "text/plain": [
       "<Figure size 432x288 with 1 Axes>"
      ]
     },
     "metadata": {
      "needs_background": "light"
     },
     "output_type": "display_data"
    }
   ],
   "source": [
    "sns.kdeplot(df['time_2'], shade=True).set(title='Method 2 Execution Time Density Plot')\n",
    "plt.show()"
   ]
  },
  {
   "cell_type": "code",
   "execution_count": 57,
   "id": "d319462f-b7bf-4ea6-995c-fdb8c2277add",
   "metadata": {},
   "outputs": [
    {
     "data": {
      "image/png": "[encoded data removed]",
      "text/plain": [
       "<Figure size 432x288 with 1 Axes>"
      ]
     },
     "metadata": {
      "needs_background": "light"
     },
     "output_type": "display_data"
    }
   ],
   "source": [
    "sns.kdeplot(df['time_3'], shade=True).set(title='Method 3 Execution Time Density Plot')\n",
    "plt.show()"
   ]
  },
  {
   "cell_type": "code",
   "execution_count": 59,
   "id": "1117a827-69df-4dfd-8c84-a16a3133ee7d",
   "metadata": {},
   "outputs": [
    {
     "data": {
      "image/png": "[encoded data removed]",
      "text/plain": [
       "<Figure size 432x288 with 1 Axes>"
      ]
     },
     "metadata": {
      "needs_background": "light"
     },
     "output_type": "display_data"
    }
   ],
   "source": [
    "fig = sns.kdeplot(df['time_1'], shade=True, color=\"b\").set(title='Overall Execution Time Density Plot')\n",
    "fig = sns.kdeplot(df['time_2'], shade=True, color=\"r\")\n",
    "fig = sns.kdeplot(df['time_3'], shade=True, color=\"g\")\n",
    "plt.show()"
   ]
  },
  {
   "cell_type": "code",
   "execution_count": 45,
   "id": "0364bf6c-e92f-4bf0-9e28-60a07b182b51",
   "metadata": {},
   "outputs": [
    {
     "data": {
      "text/plain": [
       "<seaborn.axisgrid.FacetGrid at 0x232cafcbd00>"
      ]
     },
     "execution_count": 45,
     "metadata": {},
     "output_type": "execute_result"
    },
    {
     "data": {
      "image/png": "[encoded data removed]",
      "text/plain": [
       "<Figure size 429.875x360 with 1 Axes>"
      ]
     },
     "metadata": {
      "needs_background": "light"
     },
     "output_type": "display_data"
    }
   ],
   "source": [
    "p = sns.relplot(data=df, dashes=False, kind='line')\n",
    "p.set( xlabel = \"Counter\", ylabel = \"Time(s)\")"
   ]
  }
 ],
 "metadata": {
  "kernelspec": {
   "display_name": "Python 3 (ipykernel)",
   "language": "python",
   "name": "python3"
  },
  "language_info": {
   "codemirror_mode": {
    "name": "ipython",
    "version": 3
   },
   "file_extension": ".py",
   "mimetype": "text/x-python",
   "name": "python",
   "nbconvert_exporter": "python",
   "pygments_lexer": "ipython3",
   "version": "3.9.7"
  }
 },
 "nbformat": 4,
 "nbformat_minor": 5
}
