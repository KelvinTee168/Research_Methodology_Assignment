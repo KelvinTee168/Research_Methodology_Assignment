{
 "cells": [
  {
   "cell_type": "markdown",
   "id": "d5a88115-9eab-40e6-96a0-a7e045b2e15d",
   "metadata": {},
   "source": [
    "### Libraries"
   ]
  },
  {
   "cell_type": "code",
   "execution_count": 1,
   "id": "5a0ba072-e01d-4715-a018-463576a6518e",
   "metadata": {},
   "outputs": [],
   "source": [
    "import numpy as np\n",
    "import matplotlib.pyplot as plt\n",
    "%matplotlib inline\n",
    "\n",
    "import seaborn as sns\n",
    "import pandas as pd\n",
    "\n",
    "import warnings\n",
    "warnings.simplefilter(action='ignore', category=FutureWarning)\n",
    "\n",
    "import time\n",
    "\n",
    "from scipy import stats\n",
    "import statsmodels.api as sm\n",
    "from bioinfokit.analys import stat"
   ]
  },
  {
   "cell_type": "markdown",
   "id": "b9ed0915-74d6-4f6b-ab44-a10d98feac2a",
   "metadata": {},
   "source": [
    "### Data Collection"
   ]
  },
  {
   "cell_type": "code",
   "execution_count": 2,
   "id": "7a137812-fb77-4f52-a4d0-fbb392035283",
   "metadata": {},
   "outputs": [
    {
     "data": {
      "text/html": [
       "<div>\n",
       "<style scoped>\n",
       "    .dataframe tbody tr th:only-of-type {\n",
       "        vertical-align: middle;\n",
       "    }\n",
       "\n",
       "    .dataframe tbody tr th {\n",
       "        vertical-align: top;\n",
       "    }\n",
       "\n",
       "    .dataframe thead th {\n",
       "        text-align: right;\n",
       "    }\n",
       "</style>\n",
       "<table border=\"1\" class=\"dataframe\">\n",
       "  <thead>\n",
       "    <tr style=\"text-align: right;\">\n",
       "      <th></th>\n",
       "      <th>Lat</th>\n",
       "      <th>Lon</th>\n",
       "    </tr>\n",
       "    <tr>\n",
       "      <th>People</th>\n",
       "      <th></th>\n",
       "      <th></th>\n",
       "    </tr>\n",
       "  </thead>\n",
       "  <tbody>\n",
       "    <tr>\n",
       "      <th>0</th>\n",
       "      <td>2.868615</td>\n",
       "      <td>101.673326</td>\n",
       "    </tr>\n",
       "    <tr>\n",
       "      <th>1</th>\n",
       "      <td>2.878383</td>\n",
       "      <td>101.607508</td>\n",
       "    </tr>\n",
       "    <tr>\n",
       "      <th>2</th>\n",
       "      <td>2.871754</td>\n",
       "      <td>101.599514</td>\n",
       "    </tr>\n",
       "    <tr>\n",
       "      <th>3</th>\n",
       "      <td>3.027363</td>\n",
       "      <td>101.652546</td>\n",
       "    </tr>\n",
       "    <tr>\n",
       "      <th>4</th>\n",
       "      <td>2.997368</td>\n",
       "      <td>101.626043</td>\n",
       "    </tr>\n",
       "  </tbody>\n",
       "</table>\n",
       "</div>"
      ],
      "text/plain": [
       "             Lat         Lon\n",
       "People                      \n",
       "0       2.868615  101.673326\n",
       "1       2.878383  101.607508\n",
       "2       2.871754  101.599514\n",
       "3       3.027363  101.652546\n",
       "4       2.997368  101.626043"
      ]
     },
     "execution_count": 2,
     "metadata": {},
     "output_type": "execute_result"
    }
   ],
   "source": [
    "people = pd.read_csv(\"people.csv\", index_col=0)\n",
    "people.head()"
   ]
  },
  {
   "cell_type": "code",
   "execution_count": 3,
   "id": "e22db816-0579-47b5-a3bf-2c23790fd70f",
   "metadata": {},
   "outputs": [
    {
     "data": {
      "text/html": [
       "<div>\n",
       "<style scoped>\n",
       "    .dataframe tbody tr th:only-of-type {\n",
       "        vertical-align: middle;\n",
       "    }\n",
       "\n",
       "    .dataframe tbody tr th {\n",
       "        vertical-align: top;\n",
       "    }\n",
       "\n",
       "    .dataframe thead th {\n",
       "        text-align: right;\n",
       "    }\n",
       "</style>\n",
       "<table border=\"1\" class=\"dataframe\">\n",
       "  <thead>\n",
       "    <tr style=\"text-align: right;\">\n",
       "      <th></th>\n",
       "      <th>Lat</th>\n",
       "      <th>Lon</th>\n",
       "    </tr>\n",
       "    <tr>\n",
       "      <th>PPV</th>\n",
       "      <th></th>\n",
       "      <th></th>\n",
       "    </tr>\n",
       "  </thead>\n",
       "  <tbody>\n",
       "    <tr>\n",
       "      <th>0</th>\n",
       "      <td>2.864831</td>\n",
       "      <td>101.694876</td>\n",
       "    </tr>\n",
       "    <tr>\n",
       "      <th>1</th>\n",
       "      <td>3.311896</td>\n",
       "      <td>101.585703</td>\n",
       "    </tr>\n",
       "    <tr>\n",
       "      <th>2</th>\n",
       "      <td>3.020707</td>\n",
       "      <td>101.650831</td>\n",
       "    </tr>\n",
       "    <tr>\n",
       "      <th>3</th>\n",
       "      <td>3.096667</td>\n",
       "      <td>101.706738</td>\n",
       "    </tr>\n",
       "    <tr>\n",
       "      <th>4</th>\n",
       "      <td>3.263520</td>\n",
       "      <td>101.470738</td>\n",
       "    </tr>\n",
       "  </tbody>\n",
       "</table>\n",
       "</div>"
      ],
      "text/plain": [
       "          Lat         Lon\n",
       "PPV                      \n",
       "0    2.864831  101.694876\n",
       "1    3.311896  101.585703\n",
       "2    3.020707  101.650831\n",
       "3    3.096667  101.706738\n",
       "4    3.263520  101.470738"
      ]
     },
     "execution_count": 3,
     "metadata": {},
     "output_type": "execute_result"
    }
   ],
   "source": [
    "ppv = pd.read_csv(\"ppv.csv\", index_col=0)\n",
    "ppv.head()"
   ]
  },
  {
   "cell_type": "markdown",
   "id": "214a2d4d-6e92-4422-9945-ea3427e3c4f8",
   "metadata": {},
   "source": [
    "### Method 1"
   ]
  },
  {
   "cell_type": "code",
   "execution_count": 4,
   "id": "0f077436-97d1-4d68-b540-f1a6e87e0999",
   "metadata": {},
   "outputs": [],
   "source": [
    "def nearest_ppv(df_1, df_2):\n",
    "    people_lat = np.array(df_1['Lat'].tolist())\n",
    "    people_lon = np.array(df_1['Lon'].tolist())\n",
    "    ppv_lat = np.array(df_2['Lat'].tolist())\n",
    "    ppv_lon = np.array(df_2['Lon'].tolist())\n",
    "    people_lat = np.deg2rad(people_lat)\n",
    "    people_lon = np.deg2rad(people_lon)\n",
    "    ppv_lat = np.deg2rad(ppv_lat)\n",
    "    ppv_lon = np.deg2rad(ppv_lon)\n",
    "    diff_lat = people_lat[:,None] - ppv_lat[:]\n",
    "    diff_lng = people_lon[:,None] - ppv_lon[:]\n",
    "    d = np.sin(diff_lat/2)**2 + np.cos(people_lat[:,None])*np.cos(ppv_lat[:]) * np.sin(diff_lng/2)**2\n",
    "    return 2 * 6371 * np.arcsin(np.sqrt(d))"
   ]
  },
  {
   "cell_type": "code",
   "execution_count": 5,
   "id": "35385eb8-44d6-42d3-9176-9294e7a01294",
   "metadata": {},
   "outputs": [],
   "source": [
    "execution_time = {}\n",
    "for n in range(50):\n",
    "    # get the start time\n",
    "    st = time.time()\n",
    "\n",
    "    people[\"nearest_ppv_1\"] = ppv.loc[ppv.index[np.argmin(nearest_ppv(people, ppv), axis=1)]].index\n",
    "    people.head()\n",
    "\n",
    "    # get the end time\n",
    "    et = time.time()\n",
    "\n",
    "    # get the execution time\n",
    "    elapsed_time = et - st\n",
    "    execution_time[n+1] = elapsed_time"
   ]
  },
  {
   "cell_type": "code",
   "execution_count": 6,
   "id": "77f3565a-7af5-4d50-bbbd-9c5cbeda33a1",
   "metadata": {},
   "outputs": [
    {
     "data": {
      "text/html": [
       "<div>\n",
       "<style scoped>\n",
       "    .dataframe tbody tr th:only-of-type {\n",
       "        vertical-align: middle;\n",
       "    }\n",
       "\n",
       "    .dataframe tbody tr th {\n",
       "        vertical-align: top;\n",
       "    }\n",
       "\n",
       "    .dataframe thead th {\n",
       "        text-align: right;\n",
       "    }\n",
       "</style>\n",
       "<table border=\"1\" class=\"dataframe\">\n",
       "  <thead>\n",
       "    <tr style=\"text-align: right;\">\n",
       "      <th></th>\n",
       "      <th>time_1</th>\n",
       "    </tr>\n",
       "  </thead>\n",
       "  <tbody>\n",
       "    <tr>\n",
       "      <th>1</th>\n",
       "      <td>0.046875</td>\n",
       "    </tr>\n",
       "    <tr>\n",
       "      <th>2</th>\n",
       "      <td>0.042886</td>\n",
       "    </tr>\n",
       "    <tr>\n",
       "      <th>3</th>\n",
       "      <td>0.040921</td>\n",
       "    </tr>\n",
       "    <tr>\n",
       "      <th>4</th>\n",
       "      <td>0.039862</td>\n",
       "    </tr>\n",
       "    <tr>\n",
       "      <th>5</th>\n",
       "      <td>0.042917</td>\n",
       "    </tr>\n",
       "    <tr>\n",
       "      <th>6</th>\n",
       "      <td>0.039862</td>\n",
       "    </tr>\n",
       "    <tr>\n",
       "      <th>7</th>\n",
       "      <td>0.040891</td>\n",
       "    </tr>\n",
       "    <tr>\n",
       "      <th>8</th>\n",
       "      <td>0.040891</td>\n",
       "    </tr>\n",
       "    <tr>\n",
       "      <th>9</th>\n",
       "      <td>0.039893</td>\n",
       "    </tr>\n",
       "    <tr>\n",
       "      <th>10</th>\n",
       "      <td>0.041888</td>\n",
       "    </tr>\n",
       "    <tr>\n",
       "      <th>11</th>\n",
       "      <td>0.055852</td>\n",
       "    </tr>\n",
       "    <tr>\n",
       "      <th>12</th>\n",
       "      <td>0.059840</td>\n",
       "    </tr>\n",
       "    <tr>\n",
       "      <th>13</th>\n",
       "      <td>0.060836</td>\n",
       "    </tr>\n",
       "    <tr>\n",
       "      <th>14</th>\n",
       "      <td>0.047872</td>\n",
       "    </tr>\n",
       "    <tr>\n",
       "      <th>15</th>\n",
       "      <td>0.039893</td>\n",
       "    </tr>\n",
       "    <tr>\n",
       "      <th>16</th>\n",
       "      <td>0.040891</td>\n",
       "    </tr>\n",
       "    <tr>\n",
       "      <th>17</th>\n",
       "      <td>0.041888</td>\n",
       "    </tr>\n",
       "    <tr>\n",
       "      <th>18</th>\n",
       "      <td>0.042886</td>\n",
       "    </tr>\n",
       "    <tr>\n",
       "      <th>19</th>\n",
       "      <td>0.042884</td>\n",
       "    </tr>\n",
       "    <tr>\n",
       "      <th>20</th>\n",
       "      <td>0.041889</td>\n",
       "    </tr>\n",
       "    <tr>\n",
       "      <th>21</th>\n",
       "      <td>0.040891</td>\n",
       "    </tr>\n",
       "    <tr>\n",
       "      <th>22</th>\n",
       "      <td>0.040891</td>\n",
       "    </tr>\n",
       "    <tr>\n",
       "      <th>23</th>\n",
       "      <td>0.042886</td>\n",
       "    </tr>\n",
       "    <tr>\n",
       "      <th>24</th>\n",
       "      <td>0.041887</td>\n",
       "    </tr>\n",
       "    <tr>\n",
       "      <th>25</th>\n",
       "      <td>0.040891</td>\n",
       "    </tr>\n",
       "    <tr>\n",
       "      <th>26</th>\n",
       "      <td>0.041890</td>\n",
       "    </tr>\n",
       "    <tr>\n",
       "      <th>27</th>\n",
       "      <td>0.058841</td>\n",
       "    </tr>\n",
       "    <tr>\n",
       "      <th>28</th>\n",
       "      <td>0.061834</td>\n",
       "    </tr>\n",
       "    <tr>\n",
       "      <th>29</th>\n",
       "      <td>0.056849</td>\n",
       "    </tr>\n",
       "    <tr>\n",
       "      <th>30</th>\n",
       "      <td>0.051889</td>\n",
       "    </tr>\n",
       "    <tr>\n",
       "      <th>31</th>\n",
       "      <td>0.039865</td>\n",
       "    </tr>\n",
       "    <tr>\n",
       "      <th>32</th>\n",
       "      <td>0.040890</td>\n",
       "    </tr>\n",
       "    <tr>\n",
       "      <th>33</th>\n",
       "      <td>0.039894</td>\n",
       "    </tr>\n",
       "    <tr>\n",
       "      <th>34</th>\n",
       "      <td>0.041889</td>\n",
       "    </tr>\n",
       "    <tr>\n",
       "      <th>35</th>\n",
       "      <td>0.045876</td>\n",
       "    </tr>\n",
       "    <tr>\n",
       "      <th>36</th>\n",
       "      <td>0.040891</td>\n",
       "    </tr>\n",
       "    <tr>\n",
       "      <th>37</th>\n",
       "      <td>0.040890</td>\n",
       "    </tr>\n",
       "    <tr>\n",
       "      <th>38</th>\n",
       "      <td>0.040891</td>\n",
       "    </tr>\n",
       "    <tr>\n",
       "      <th>39</th>\n",
       "      <td>0.039893</td>\n",
       "    </tr>\n",
       "    <tr>\n",
       "      <th>40</th>\n",
       "      <td>0.041889</td>\n",
       "    </tr>\n",
       "    <tr>\n",
       "      <th>41</th>\n",
       "      <td>0.044879</td>\n",
       "    </tr>\n",
       "    <tr>\n",
       "      <th>42</th>\n",
       "      <td>0.040890</td>\n",
       "    </tr>\n",
       "    <tr>\n",
       "      <th>43</th>\n",
       "      <td>0.040891</td>\n",
       "    </tr>\n",
       "    <tr>\n",
       "      <th>44</th>\n",
       "      <td>0.040891</td>\n",
       "    </tr>\n",
       "    <tr>\n",
       "      <th>45</th>\n",
       "      <td>0.039892</td>\n",
       "    </tr>\n",
       "    <tr>\n",
       "      <th>46</th>\n",
       "      <td>0.040891</td>\n",
       "    </tr>\n",
       "    <tr>\n",
       "      <th>47</th>\n",
       "      <td>0.040891</td>\n",
       "    </tr>\n",
       "    <tr>\n",
       "      <th>48</th>\n",
       "      <td>0.040891</td>\n",
       "    </tr>\n",
       "    <tr>\n",
       "      <th>49</th>\n",
       "      <td>0.042885</td>\n",
       "    </tr>\n",
       "    <tr>\n",
       "      <th>50</th>\n",
       "      <td>0.041889</td>\n",
       "    </tr>\n",
       "  </tbody>\n",
       "</table>\n",
       "</div>"
      ],
      "text/plain": [
       "      time_1\n",
       "1   0.046875\n",
       "2   0.042886\n",
       "3   0.040921\n",
       "4   0.039862\n",
       "5   0.042917\n",
       "6   0.039862\n",
       "7   0.040891\n",
       "8   0.040891\n",
       "9   0.039893\n",
       "10  0.041888\n",
       "11  0.055852\n",
       "12  0.059840\n",
       "13  0.060836\n",
       "14  0.047872\n",
       "15  0.039893\n",
       "16  0.040891\n",
       "17  0.041888\n",
       "18  0.042886\n",
       "19  0.042884\n",
       "20  0.041889\n",
       "21  0.040891\n",
       "22  0.040891\n",
       "23  0.042886\n",
       "24  0.041887\n",
       "25  0.040891\n",
       "26  0.041890\n",
       "27  0.058841\n",
       "28  0.061834\n",
       "29  0.056849\n",
       "30  0.051889\n",
       "31  0.039865\n",
       "32  0.040890\n",
       "33  0.039894\n",
       "34  0.041889\n",
       "35  0.045876\n",
       "36  0.040891\n",
       "37  0.040890\n",
       "38  0.040891\n",
       "39  0.039893\n",
       "40  0.041889\n",
       "41  0.044879\n",
       "42  0.040890\n",
       "43  0.040891\n",
       "44  0.040891\n",
       "45  0.039892\n",
       "46  0.040891\n",
       "47  0.040891\n",
       "48  0.040891\n",
       "49  0.042885\n",
       "50  0.041889"
      ]
     },
     "execution_count": 6,
     "metadata": {},
     "output_type": "execute_result"
    }
   ],
   "source": [
    "df_execution_time = pd.DataFrame.from_dict(execution_time, orient='index', columns=['time_1'])\n",
    "df_execution_time"
   ]
  },
  {
   "cell_type": "markdown",
   "id": "8ea2adea-2efe-41b2-b5a5-acb7e7279955",
   "metadata": {},
   "source": [
    "### Method 2"
   ]
  },
  {
   "cell_type": "code",
   "execution_count": 7,
   "id": "648efec0-3fd6-4298-a8c0-fe920a274384",
   "metadata": {},
   "outputs": [
    {
     "name": "stdout",
     "output_type": "stream",
     "text": [
      "18.39085817337036\n",
      "18.25716495513916\n",
      "18.260242223739624\n",
      "18.221269130706787\n",
      "18.13150906562805\n",
      "18.087627410888672\n",
      "18.21129870414734\n",
      "18.09756898880005\n",
      "18.062724590301514\n",
      "18.163395166397095\n",
      "18.232239723205566\n",
      "18.1414852142334\n",
      "18.196395874023438\n",
      "18.476587533950806\n",
      "18.201329708099365\n",
      "18.165415048599243\n",
      "18.218276500701904\n",
      "18.2651526927948\n",
      "18.108571529388428\n",
      "18.2382595539093\n",
      "18.06170415878296\n",
      "17.99785876274109\n",
      "17.988861799240112\n",
      "19.064045429229736\n",
      "18.104583501815796\n",
      "18.07266664505005\n",
      "18.025792598724365\n",
      "18.004850387573242\n",
      "18.10163140296936\n",
      "18.0068097114563\n",
      "17.983935594558716\n",
      "18.03373622894287\n",
      "18.13350534439087\n",
      "23.924863815307617\n",
      "19.393505334854126\n",
      "18.229285717010498\n",
      "18.14546775817871\n",
      "18.174396991729736\n",
      "18.148431301116943\n",
      "18.26163101196289\n",
      "18.096599578857422\n",
      "18.123528957366943\n",
      "18.174400091171265\n",
      "18.179349422454834\n",
      "18.118580102920532\n",
      "18.084819078445435\n",
      "18.226289987564087\n",
      "18.13250970840454\n",
      "18.065686225891113\n",
      "18.11356019973755\n"
     ]
    }
   ],
   "source": [
    "execution_time = {}\n",
    "len_people = people.shape[0]\n",
    "len_ppv = ppv.shape[0]\n",
    "for n in range(50):\n",
    "    people_to_ppv = []\n",
    "    st = time.time()\n",
    "    people_to_ppv = []\n",
    "    for i in range(len_people):\n",
    "        dist = []\n",
    "        people_lat = people['Lat'][i]\n",
    "        people_lon = people['Lon'][i]\n",
    "        people_lat = np.deg2rad(people_lat)\n",
    "        people_lon = np.deg2rad(people_lon)\n",
    "        for j in range(len_ppv):\n",
    "            ppv_lat = ppv['Lat'][j]\n",
    "            ppv_lon = ppv['Lon'][j]\n",
    "            ppv_lat = np.deg2rad(ppv_lat)\n",
    "            ppv_lon = np.deg2rad(ppv_lon)\n",
    "            diff_lat = people_lat - ppv_lat\n",
    "            diff_lng = people_lon - ppv_lon\n",
    "            d = np.sin(diff_lat/2)**2 + np.cos(people_lat)*np.cos(ppv_lat) * np.sin(diff_lng/2)**2\n",
    "            dist.append(2 * 6371 * np.arcsin(np.sqrt(d)))\n",
    "        people_to_ppv.append(np.argmin(dist))\n",
    "    et = time.time()\n",
    "    elapsed_time = et - st\n",
    "    print(elapsed_time)\n",
    "    execution_time[n+1] = elapsed_time"
   ]
  },
  {
   "cell_type": "code",
   "execution_count": 8,
   "id": "b5879b40-40da-4b81-998a-ace9567f7c0b",
   "metadata": {},
   "outputs": [
    {
     "data": {
      "text/html": [
       "<div>\n",
       "<style scoped>\n",
       "    .dataframe tbody tr th:only-of-type {\n",
       "        vertical-align: middle;\n",
       "    }\n",
       "\n",
       "    .dataframe tbody tr th {\n",
       "        vertical-align: top;\n",
       "    }\n",
       "\n",
       "    .dataframe thead th {\n",
       "        text-align: right;\n",
       "    }\n",
       "</style>\n",
       "<table border=\"1\" class=\"dataframe\">\n",
       "  <thead>\n",
       "    <tr style=\"text-align: right;\">\n",
       "      <th></th>\n",
       "      <th>Lat</th>\n",
       "      <th>Lon</th>\n",
       "      <th>nearest_ppv_1</th>\n",
       "      <th>nearest_ppv_2</th>\n",
       "    </tr>\n",
       "    <tr>\n",
       "      <th>People</th>\n",
       "      <th></th>\n",
       "      <th></th>\n",
       "      <th></th>\n",
       "      <th></th>\n",
       "    </tr>\n",
       "  </thead>\n",
       "  <tbody>\n",
       "    <tr>\n",
       "      <th>9995</th>\n",
       "      <td>2.995173</td>\n",
       "      <td>101.695038</td>\n",
       "      <td>40</td>\n",
       "      <td>40</td>\n",
       "    </tr>\n",
       "    <tr>\n",
       "      <th>9996</th>\n",
       "      <td>3.006136</td>\n",
       "      <td>101.693904</td>\n",
       "      <td>40</td>\n",
       "      <td>40</td>\n",
       "    </tr>\n",
       "    <tr>\n",
       "      <th>9997</th>\n",
       "      <td>2.970721</td>\n",
       "      <td>101.716344</td>\n",
       "      <td>58</td>\n",
       "      <td>58</td>\n",
       "    </tr>\n",
       "    <tr>\n",
       "      <th>9998</th>\n",
       "      <td>2.980272</td>\n",
       "      <td>101.644367</td>\n",
       "      <td>2</td>\n",
       "      <td>2</td>\n",
       "    </tr>\n",
       "    <tr>\n",
       "      <th>9999</th>\n",
       "      <td>2.942730</td>\n",
       "      <td>101.706985</td>\n",
       "      <td>58</td>\n",
       "      <td>58</td>\n",
       "    </tr>\n",
       "  </tbody>\n",
       "</table>\n",
       "</div>"
      ],
      "text/plain": [
       "             Lat         Lon  nearest_ppv_1  nearest_ppv_2\n",
       "People                                                    \n",
       "9995    2.995173  101.695038             40             40\n",
       "9996    3.006136  101.693904             40             40\n",
       "9997    2.970721  101.716344             58             58\n",
       "9998    2.980272  101.644367              2              2\n",
       "9999    2.942730  101.706985             58             58"
      ]
     },
     "execution_count": 8,
     "metadata": {},
     "output_type": "execute_result"
    }
   ],
   "source": [
    "people[\"nearest_ppv_2\"] = ppv.loc[ppv.index[np.array(people_to_ppv)]].index\n",
    "people.tail()"
   ]
  },
  {
   "cell_type": "code",
   "execution_count": 9,
   "id": "55518c29-3c7f-40d0-8b1d-2f6eac2c8669",
   "metadata": {},
   "outputs": [
    {
     "data": {
      "text/html": [
       "<div>\n",
       "<style scoped>\n",
       "    .dataframe tbody tr th:only-of-type {\n",
       "        vertical-align: middle;\n",
       "    }\n",
       "\n",
       "    .dataframe tbody tr th {\n",
       "        vertical-align: top;\n",
       "    }\n",
       "\n",
       "    .dataframe thead th {\n",
       "        text-align: right;\n",
       "    }\n",
       "</style>\n",
       "<table border=\"1\" class=\"dataframe\">\n",
       "  <thead>\n",
       "    <tr style=\"text-align: right;\">\n",
       "      <th></th>\n",
       "      <th>time_1</th>\n",
       "      <th>time_2</th>\n",
       "    </tr>\n",
       "  </thead>\n",
       "  <tbody>\n",
       "    <tr>\n",
       "      <th>1</th>\n",
       "      <td>0.046875</td>\n",
       "      <td>18.390858</td>\n",
       "    </tr>\n",
       "    <tr>\n",
       "      <th>2</th>\n",
       "      <td>0.042886</td>\n",
       "      <td>18.257165</td>\n",
       "    </tr>\n",
       "    <tr>\n",
       "      <th>3</th>\n",
       "      <td>0.040921</td>\n",
       "      <td>18.260242</td>\n",
       "    </tr>\n",
       "    <tr>\n",
       "      <th>4</th>\n",
       "      <td>0.039862</td>\n",
       "      <td>18.221269</td>\n",
       "    </tr>\n",
       "    <tr>\n",
       "      <th>5</th>\n",
       "      <td>0.042917</td>\n",
       "      <td>18.131509</td>\n",
       "    </tr>\n",
       "  </tbody>\n",
       "</table>\n",
       "</div>"
      ],
      "text/plain": [
       "     time_1     time_2\n",
       "1  0.046875  18.390858\n",
       "2  0.042886  18.257165\n",
       "3  0.040921  18.260242\n",
       "4  0.039862  18.221269\n",
       "5  0.042917  18.131509"
      ]
     },
     "execution_count": 9,
     "metadata": {},
     "output_type": "execute_result"
    }
   ],
   "source": [
    "df_execution_time[\"time_2\"] = execution_time.values()\n",
    "df_execution_time.head()"
   ]
  },
  {
   "cell_type": "markdown",
   "id": "f4a6425f-ea09-4ae0-aad5-4132283903d3",
   "metadata": {},
   "source": [
    "### Method 3"
   ]
  },
  {
   "cell_type": "code",
   "execution_count": 10,
   "id": "51763a76",
   "metadata": {},
   "outputs": [],
   "source": [
    "from sklearn.neighbors import KDTree"
   ]
  },
  {
   "cell_type": "code",
   "execution_count": 11,
   "id": "f028d2b9",
   "metadata": {},
   "outputs": [],
   "source": [
    "execution_time\n",
    "distances = None\n",
    "indices = None\n",
    "for n in range(50):\n",
    "    st = time.time()\n",
    "    kd = KDTree(ppv[[\"Lat\", \"Lon\"]].values, metric='euclidean')\n",
    "    distances, indices = kd.query(people[[\"Lat\", \"Lon\"]], k = 1)\n",
    "    et = time.time()\n",
    "    elapsed_time = et - st\n",
    "    execution_time[n+1] = elapsed_time"
   ]
  },
  {
   "cell_type": "code",
   "execution_count": 12,
   "id": "21a93bae",
   "metadata": {},
   "outputs": [
    {
     "data": {
      "text/html": [
       "<div>\n",
       "<style scoped>\n",
       "    .dataframe tbody tr th:only-of-type {\n",
       "        vertical-align: middle;\n",
       "    }\n",
       "\n",
       "    .dataframe tbody tr th {\n",
       "        vertical-align: top;\n",
       "    }\n",
       "\n",
       "    .dataframe thead th {\n",
       "        text-align: right;\n",
       "    }\n",
       "</style>\n",
       "<table border=\"1\" class=\"dataframe\">\n",
       "  <thead>\n",
       "    <tr style=\"text-align: right;\">\n",
       "      <th></th>\n",
       "      <th>time_1</th>\n",
       "      <th>time_2</th>\n",
       "      <th>time_3</th>\n",
       "    </tr>\n",
       "  </thead>\n",
       "  <tbody>\n",
       "    <tr>\n",
       "      <th>1</th>\n",
       "      <td>0.046875</td>\n",
       "      <td>18.390858</td>\n",
       "      <td>0.006981</td>\n",
       "    </tr>\n",
       "    <tr>\n",
       "      <th>2</th>\n",
       "      <td>0.042886</td>\n",
       "      <td>18.257165</td>\n",
       "      <td>0.005984</td>\n",
       "    </tr>\n",
       "    <tr>\n",
       "      <th>3</th>\n",
       "      <td>0.040921</td>\n",
       "      <td>18.260242</td>\n",
       "      <td>0.005984</td>\n",
       "    </tr>\n",
       "    <tr>\n",
       "      <th>4</th>\n",
       "      <td>0.039862</td>\n",
       "      <td>18.221269</td>\n",
       "      <td>0.005026</td>\n",
       "    </tr>\n",
       "    <tr>\n",
       "      <th>5</th>\n",
       "      <td>0.042917</td>\n",
       "      <td>18.131509</td>\n",
       "      <td>0.005988</td>\n",
       "    </tr>\n",
       "  </tbody>\n",
       "</table>\n",
       "</div>"
      ],
      "text/plain": [
       "     time_1     time_2    time_3\n",
       "1  0.046875  18.390858  0.006981\n",
       "2  0.042886  18.257165  0.005984\n",
       "3  0.040921  18.260242  0.005984\n",
       "4  0.039862  18.221269  0.005026\n",
       "5  0.042917  18.131509  0.005988"
      ]
     },
     "execution_count": 12,
     "metadata": {},
     "output_type": "execute_result"
    }
   ],
   "source": [
    "df_execution_time[\"time_3\"] = execution_time.values()\n",
    "df_execution_time.head()"
   ]
  },
  {
   "cell_type": "code",
   "execution_count": 13,
   "id": "27fca01e-5089-4d10-aebd-ae080e4b4172",
   "metadata": {},
   "outputs": [
    {
     "data": {
      "text/html": [
       "<div>\n",
       "<style scoped>\n",
       "    .dataframe tbody tr th:only-of-type {\n",
       "        vertical-align: middle;\n",
       "    }\n",
       "\n",
       "    .dataframe tbody tr th {\n",
       "        vertical-align: top;\n",
       "    }\n",
       "\n",
       "    .dataframe thead th {\n",
       "        text-align: right;\n",
       "    }\n",
       "</style>\n",
       "<table border=\"1\" class=\"dataframe\">\n",
       "  <thead>\n",
       "    <tr style=\"text-align: right;\">\n",
       "      <th></th>\n",
       "      <th>Lat</th>\n",
       "      <th>Lon</th>\n",
       "      <th>nearest_ppv_1</th>\n",
       "      <th>nearest_ppv_2</th>\n",
       "      <th>nearest_ppv_3</th>\n",
       "    </tr>\n",
       "    <tr>\n",
       "      <th>People</th>\n",
       "      <th></th>\n",
       "      <th></th>\n",
       "      <th></th>\n",
       "      <th></th>\n",
       "      <th></th>\n",
       "    </tr>\n",
       "  </thead>\n",
       "  <tbody>\n",
       "    <tr>\n",
       "      <th>0</th>\n",
       "      <td>2.868615</td>\n",
       "      <td>101.673326</td>\n",
       "      <td>0</td>\n",
       "      <td>0</td>\n",
       "      <td>0</td>\n",
       "    </tr>\n",
       "    <tr>\n",
       "      <th>1</th>\n",
       "      <td>2.878383</td>\n",
       "      <td>101.607508</td>\n",
       "      <td>44</td>\n",
       "      <td>44</td>\n",
       "      <td>44</td>\n",
       "    </tr>\n",
       "    <tr>\n",
       "      <th>2</th>\n",
       "      <td>2.871754</td>\n",
       "      <td>101.599514</td>\n",
       "      <td>44</td>\n",
       "      <td>44</td>\n",
       "      <td>44</td>\n",
       "    </tr>\n",
       "    <tr>\n",
       "      <th>3</th>\n",
       "      <td>3.027363</td>\n",
       "      <td>101.652546</td>\n",
       "      <td>2</td>\n",
       "      <td>2</td>\n",
       "      <td>2</td>\n",
       "    </tr>\n",
       "    <tr>\n",
       "      <th>4</th>\n",
       "      <td>2.997368</td>\n",
       "      <td>101.626043</td>\n",
       "      <td>19</td>\n",
       "      <td>19</td>\n",
       "      <td>19</td>\n",
       "    </tr>\n",
       "  </tbody>\n",
       "</table>\n",
       "</div>"
      ],
      "text/plain": [
       "             Lat         Lon  nearest_ppv_1  nearest_ppv_2  nearest_ppv_3\n",
       "People                                                                   \n",
       "0       2.868615  101.673326              0              0              0\n",
       "1       2.878383  101.607508             44             44             44\n",
       "2       2.871754  101.599514             44             44             44\n",
       "3       3.027363  101.652546              2              2              2\n",
       "4       2.997368  101.626043             19             19             19"
      ]
     },
     "execution_count": 13,
     "metadata": {},
     "output_type": "execute_result"
    }
   ],
   "source": [
    "n_ppv_3 = [x[0] for x in indices]\n",
    "people[\"nearest_ppv_3\"] = n_ppv_3\n",
    "people.head()"
   ]
  },
  {
   "cell_type": "code",
   "execution_count": 14,
   "id": "84d968bc-5f6f-4ce1-bae5-e20d03f1f88d",
   "metadata": {},
   "outputs": [],
   "source": [
    "people.to_csv('people_to_ppv.csv')"
   ]
  },
  {
   "cell_type": "code",
   "execution_count": 15,
   "id": "615f0dd7-8e49-41e8-8439-19c4f6887583",
   "metadata": {},
   "outputs": [],
   "source": [
    "df_execution_time.to_csv('execution_time_1.csv') #for computer 1"
   ]
  },
  {
   "cell_type": "code",
   "execution_count": null,
   "id": "3a3934c7-dbd0-49a9-8d37-e399c01d0019",
   "metadata": {},
   "outputs": [],
   "source": [
    "df_execution_time.to_csv('execution_time_2.csv') #for computer 2"
   ]
  },
  {
   "cell_type": "markdown",
   "id": "d93ba882-05b9-47f4-909d-0cb44f24a330",
   "metadata": {},
   "source": [
    "### Analysis"
   ]
  },
  {
   "cell_type": "markdown",
   "id": "2202efab-883e-426b-a874-3ce8b1c7d060",
   "metadata": {},
   "source": [
    "### Task 1"
   ]
  },
  {
   "cell_type": "code",
   "execution_count": 16,
   "id": "90d85df2-43cb-4693-adf2-a58b14209640",
   "metadata": {},
   "outputs": [
    {
     "data": {
      "text/html": [
       "<div>\n",
       "<style scoped>\n",
       "    .dataframe tbody tr th:only-of-type {\n",
       "        vertical-align: middle;\n",
       "    }\n",
       "\n",
       "    .dataframe tbody tr th {\n",
       "        vertical-align: top;\n",
       "    }\n",
       "\n",
       "    .dataframe thead th {\n",
       "        text-align: right;\n",
       "    }\n",
       "</style>\n",
       "<table border=\"1\" class=\"dataframe\">\n",
       "  <thead>\n",
       "    <tr style=\"text-align: right;\">\n",
       "      <th></th>\n",
       "      <th>time_1</th>\n",
       "      <th>time_2</th>\n",
       "      <th>time_3</th>\n",
       "    </tr>\n",
       "  </thead>\n",
       "  <tbody>\n",
       "    <tr>\n",
       "      <th>1</th>\n",
       "      <td>0.046875</td>\n",
       "      <td>18.390858</td>\n",
       "      <td>0.006981</td>\n",
       "    </tr>\n",
       "    <tr>\n",
       "      <th>2</th>\n",
       "      <td>0.042886</td>\n",
       "      <td>18.257165</td>\n",
       "      <td>0.005984</td>\n",
       "    </tr>\n",
       "    <tr>\n",
       "      <th>3</th>\n",
       "      <td>0.040921</td>\n",
       "      <td>18.260242</td>\n",
       "      <td>0.005984</td>\n",
       "    </tr>\n",
       "    <tr>\n",
       "      <th>4</th>\n",
       "      <td>0.039862</td>\n",
       "      <td>18.221269</td>\n",
       "      <td>0.005026</td>\n",
       "    </tr>\n",
       "    <tr>\n",
       "      <th>5</th>\n",
       "      <td>0.042917</td>\n",
       "      <td>18.131509</td>\n",
       "      <td>0.005988</td>\n",
       "    </tr>\n",
       "  </tbody>\n",
       "</table>\n",
       "</div>"
      ],
      "text/plain": [
       "     time_1     time_2    time_3\n",
       "1  0.046875  18.390858  0.006981\n",
       "2  0.042886  18.257165  0.005984\n",
       "3  0.040921  18.260242  0.005984\n",
       "4  0.039862  18.221269  0.005026\n",
       "5  0.042917  18.131509  0.005988"
      ]
     },
     "execution_count": 16,
     "metadata": {},
     "output_type": "execute_result"
    }
   ],
   "source": [
    "df1 = pd.read_csv('execution_time_1.csv', index_col=0) # computer 1\n",
    "df1.head()"
   ]
  },
  {
   "cell_type": "code",
   "execution_count": 17,
   "id": "df2d6476-b2cf-4964-a2f6-da3e21661201",
   "metadata": {},
   "outputs": [
    {
     "data": {
      "text/html": [
       "<div>\n",
       "<style scoped>\n",
       "    .dataframe tbody tr th:only-of-type {\n",
       "        vertical-align: middle;\n",
       "    }\n",
       "\n",
       "    .dataframe tbody tr th {\n",
       "        vertical-align: top;\n",
       "    }\n",
       "\n",
       "    .dataframe thead th {\n",
       "        text-align: right;\n",
       "    }\n",
       "</style>\n",
       "<table border=\"1\" class=\"dataframe\">\n",
       "  <thead>\n",
       "    <tr style=\"text-align: right;\">\n",
       "      <th></th>\n",
       "      <th>time_1</th>\n",
       "      <th>time_2</th>\n",
       "      <th>time_3</th>\n",
       "    </tr>\n",
       "  </thead>\n",
       "  <tbody>\n",
       "    <tr>\n",
       "      <th>1</th>\n",
       "      <td>0.035111</td>\n",
       "      <td>15.915760</td>\n",
       "      <td>0.005276</td>\n",
       "    </tr>\n",
       "    <tr>\n",
       "      <th>2</th>\n",
       "      <td>0.022871</td>\n",
       "      <td>16.426606</td>\n",
       "      <td>0.004638</td>\n",
       "    </tr>\n",
       "    <tr>\n",
       "      <th>3</th>\n",
       "      <td>0.021451</td>\n",
       "      <td>17.177436</td>\n",
       "      <td>0.004637</td>\n",
       "    </tr>\n",
       "    <tr>\n",
       "      <th>4</th>\n",
       "      <td>0.021151</td>\n",
       "      <td>17.746995</td>\n",
       "      <td>0.004487</td>\n",
       "    </tr>\n",
       "    <tr>\n",
       "      <th>5</th>\n",
       "      <td>0.020858</td>\n",
       "      <td>17.633384</td>\n",
       "      <td>0.004566</td>\n",
       "    </tr>\n",
       "  </tbody>\n",
       "</table>\n",
       "</div>"
      ],
      "text/plain": [
       "     time_1     time_2    time_3\n",
       "1  0.035111  15.915760  0.005276\n",
       "2  0.022871  16.426606  0.004638\n",
       "3  0.021451  17.177436  0.004637\n",
       "4  0.021151  17.746995  0.004487\n",
       "5  0.020858  17.633384  0.004566"
      ]
     },
     "execution_count": 17,
     "metadata": {},
     "output_type": "execute_result"
    }
   ],
   "source": [
    "df2 = pd.read_csv('execution_time_2.csv', index_col=0)  # computer 2\n",
    "df2.head()"
   ]
  },
  {
   "cell_type": "code",
   "execution_count": 18,
   "id": "62959ce2",
   "metadata": {},
   "outputs": [
    {
     "name": "stdout",
     "output_type": "stream",
     "text": [
      "3.621695364845446e-05 6.110410640849293e-06\n"
     ]
    }
   ],
   "source": [
    "print(np.var(df1['time_1']), np.var(df2['time_1']))"
   ]
  },
  {
   "cell_type": "code",
   "execution_count": 20,
   "id": "7737478d",
   "metadata": {},
   "outputs": [
    {
     "data": {
      "text/plain": [
       "5.9270899743360985"
      ]
     },
     "execution_count": 20,
     "metadata": {},
     "output_type": "execute_result"
    }
   ],
   "source": [
    "np.var(df1['time_1'])/np.var(df2['time_1'])"
   ]
  },
  {
   "cell_type": "code",
   "execution_count": 21,
   "id": "32f34798",
   "metadata": {},
   "outputs": [
    {
     "data": {
      "text/plain": [
       "Ttest_indResult(statistic=22.44484009675042, pvalue=2.4098101499809435e-32)"
      ]
     },
     "execution_count": 21,
     "metadata": {},
     "output_type": "execute_result"
    }
   ],
   "source": [
    "stats.ttest_ind(a=df1['time_1'], b=df2['time_1'], equal_var=False)"
   ]
  },
  {
   "cell_type": "markdown",
   "id": "242e5fb2",
   "metadata": {},
   "source": [
    "The p-value obtained from t-test analysis are 2.4098101499809435e-32. Therefore, we conclude that there are significant differences among the performance of computers. The p-value is less than alpha = 0.05, we have to reject the null hypothesis of the test. We have sufficient evidence to say that the mean execution time between the two computers is different."
   ]
  },
  {
   "cell_type": "code",
   "execution_count": 22,
   "id": "4e492e63",
   "metadata": {},
   "outputs": [
    {
     "data": {
      "image/png": "[encoded data removed]",
      "text/plain": [
       "<Figure size 432x288 with 1 Axes>"
      ]
     },
     "metadata": {
      "needs_background": "light"
     },
     "output_type": "display_data"
    }
   ],
   "source": [
    "fig = sns.kdeplot(df1['time_1'], shade=True, color=\"b\", label='Computer 1').set(title='Comparison of Execution Time Density Plot')\n",
    "fig = sns.kdeplot(df2['time_1'], shade=True, color=\"r\", label='Computer 2')\n",
    "plt.legend()\n",
    "plt.savefig('Q2_Task1.png')\n",
    "plt.show()"
   ]
  },
  {
   "cell_type": "markdown",
   "id": "be4f5428-193d-4620-9cd8-eabd2c045a15",
   "metadata": {
    "tags": []
   },
   "source": [
    "### Task 2"
   ]
  },
  {
   "cell_type": "code",
   "execution_count": 24,
   "id": "ff6e16f2-d9d8-433c-827e-0a20d5769647",
   "metadata": {},
   "outputs": [
    {
     "data": {
      "image/png": "[encoded data removed]",
      "text/plain": [
       "<Figure size 432x288 with 1 Axes>"
      ]
     },
     "metadata": {
      "needs_background": "light"
     },
     "output_type": "display_data"
    }
   ],
   "source": [
    "sns.kdeplot(df1['time_1'], shade=True).set(title='Method 1 Execution Time Density Plot')\n",
    "plt.savefig('Q2_Method1.png')\n",
    "plt.show()"
   ]
  },
  {
   "cell_type": "code",
   "execution_count": 25,
   "id": "52b6b58c-4a04-4266-9e5c-41710d3cb7c1",
   "metadata": {},
   "outputs": [
    {
     "data": {
      "image/png": "[encoded data removed]",
      "text/plain": [
       "<Figure size 432x288 with 1 Axes>"
      ]
     },
     "metadata": {
      "needs_background": "light"
     },
     "output_type": "display_data"
    }
   ],
   "source": [
    "sns.kdeplot(df1['time_2'], shade=True).set(title='Method 2 Execution Time Density Plot')\n",
    "plt.savefig('Q2_Method2.png')\n",
    "plt.show()"
   ]
  },
  {
   "cell_type": "code",
   "execution_count": 26,
   "id": "d319462f-b7bf-4ea6-995c-fdb8c2277add",
   "metadata": {},
   "outputs": [
    {
     "data": {
      "image/png": "[encoded data removed]",
      "text/plain": [
       "<Figure size 432x288 with 1 Axes>"
      ]
     },
     "metadata": {
      "needs_background": "light"
     },
     "output_type": "display_data"
    }
   ],
   "source": [
    "sns.kdeplot(df1['time_3'], shade=True).set(title='Method 3 Execution Time Density Plot')\n",
    "plt.savefig('Q2_Method3.png')\n",
    "plt.show()"
   ]
  },
  {
   "cell_type": "code",
   "execution_count": 23,
   "id": "1117a827-69df-4dfd-8c84-a16a3133ee7d",
   "metadata": {},
   "outputs": [
    {
     "data": {
      "image/png": "[encoded data removed]",
      "text/plain": [
       "<Figure size 432x288 with 1 Axes>"
      ]
     },
     "metadata": {
      "needs_background": "light"
     },
     "output_type": "display_data"
    }
   ],
   "source": [
    "fig = sns.kdeplot(df1['time_1'], shade=True, color=\"b\", label='Method 1').set(title='Overall Execution Time Density Plot')\n",
    "fig = sns.kdeplot(df1['time_2'], shade=True, color=\"r\", label='Method 2')\n",
    "fig = sns.kdeplot(df1['time_3'], shade=True, color=\"g\", label='Method 3')\n",
    "plt.legend()\n",
    "plt.savefig('Q2_Overall.png')\n",
    "plt.show()"
   ]
  },
  {
   "cell_type": "code",
   "execution_count": 27,
   "id": "8aa22fad-48e4-47eb-a16e-559b01047736",
   "metadata": {},
   "outputs": [],
   "source": [
    "df_1 = df1['time_1']\n",
    "df_2 = df1['time_2']\n",
    "df_3 = df1['time_3']"
   ]
  },
  {
   "cell_type": "code",
   "execution_count": 28,
   "id": "c019863c-af24-445f-88e6-f8bf2b06dfda",
   "metadata": {},
   "outputs": [
    {
     "name": "stdout",
     "output_type": "stream",
     "text": [
      "3.621695364845446e-05 0.6994999951552746 2.8571863012985666e-07\n"
     ]
    }
   ],
   "source": [
    "print(np.var(df_1), np.var(df_2), np.var(df_3))"
   ]
  },
  {
   "cell_type": "code",
   "execution_count": 29,
   "id": "233c2046-5bbe-43c9-9730-796c8e96d331",
   "metadata": {},
   "outputs": [
    {
     "data": {
      "text/plain": [
       "Ttest_indResult(statistic=-152.84185287941781, pvalue=2.564367957194444e-67)"
      ]
     },
     "execution_count": 29,
     "metadata": {},
     "output_type": "execute_result"
    }
   ],
   "source": [
    "stats.ttest_ind(a=df_1, b=df_2, equal_var=False)"
   ]
  },
  {
   "cell_type": "code",
   "execution_count": 30,
   "id": "3aff5392-4e1d-4f2e-8f74-eb66b96e65ad",
   "metadata": {},
   "outputs": [
    {
     "data": {
      "text/plain": [
       "Ttest_indResult(statistic=44.532707300561675, pvalue=9.141266278614192e-42)"
      ]
     },
     "execution_count": 30,
     "metadata": {},
     "output_type": "execute_result"
    }
   ],
   "source": [
    "stats.ttest_ind(a=df_1, b=df_3, equal_var=False)"
   ]
  },
  {
   "cell_type": "code",
   "execution_count": 31,
   "id": "ee901bd0-61bb-41cc-ac3c-2816a76cccbc",
   "metadata": {},
   "outputs": [
    {
     "data": {
      "text/plain": [
       "Ttest_indResult(statistic=153.16747569163073, pvalue=2.341309940651415e-67)"
      ]
     },
     "execution_count": 31,
     "metadata": {},
     "output_type": "execute_result"
    }
   ],
   "source": [
    "stats.ttest_ind(a=df_2, b=df_3, equal_var=False)"
   ]
  },
  {
   "cell_type": "markdown",
   "id": "fd1e2f85-8c5f-4d2c-aa88-94c2f2cc594b",
   "metadata": {},
   "source": [
    "The p-value obtained from t-test analysis are 2.564367957194444e-67, 9.141266278614192e-42 and 2.341309940651415e-67. Therefore, we conclude that there are significant differences among the methods. Those p-values are less than alpha = 0.05, we have to reject the null hypothesis of the test. We have sufficient evidence to say that the mean execution time between the three methods is different."
   ]
  },
  {
   "cell_type": "code",
   "execution_count": null,
   "id": "c585af2c-4a6e-49a7-b6e3-faeb5c347e8b",
   "metadata": {},
   "outputs": [],
   "source": []
  }
 ],
 "metadata": {
  "kernelspec": {
   "display_name": "Python 3 (ipykernel)",
   "language": "python",
   "name": "python3"
  },
  "language_info": {
   "codemirror_mode": {
    "name": "ipython",
    "version": 3
   },
   "file_extension": ".py",
   "mimetype": "text/x-python",
   "name": "python",
   "nbconvert_exporter": "python",
   "pygments_lexer": "ipython3",
   "version": "3.9.7"
  }
 },
 "nbformat": 4,
 "nbformat_minor": 5
}
