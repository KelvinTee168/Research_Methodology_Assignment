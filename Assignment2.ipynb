{
 "cells": [
  {
   "cell_type": "markdown",
   "id": "d5a88115-9eab-40e6-96a0-a7e045b2e15d",
   "metadata": {},
   "source": [
    "### Libraries"
   ]
  },
  {
   "cell_type": "code",
   "execution_count": 1,
   "id": "5a0ba072-e01d-4715-a018-463576a6518e",
   "metadata": {},
   "outputs": [],
   "source": [
    "import numpy as np\n",
    "import matplotlib.pyplot as plt\n",
    "%matplotlib inline\n",
    "\n",
    "import seaborn as sns\n",
    "import pandas as pd\n",
    "\n",
    "import warnings\n",
    "warnings.simplefilter(action='ignore', category=FutureWarning)\n",
    "\n",
    "import time\n",
    "\n",
    "from scipy import stats\n",
    "import statsmodels.api as sm\n",
    "from bioinfokit.analys import stat"
   ]
  },
  {
   "cell_type": "markdown",
   "id": "b9ed0915-74d6-4f6b-ab44-a10d98feac2a",
   "metadata": {},
   "source": [
    "### Data Collection"
   ]
  },
  {
   "cell_type": "code",
   "execution_count": 2,
   "id": "7a137812-fb77-4f52-a4d0-fbb392035283",
   "metadata": {},
   "outputs": [
    {
     "data": {
      "text/html": [
       "<div>\n",
       "<style scoped>\n",
       "    .dataframe tbody tr th:only-of-type {\n",
       "        vertical-align: middle;\n",
       "    }\n",
       "\n",
       "    .dataframe tbody tr th {\n",
       "        vertical-align: top;\n",
       "    }\n",
       "\n",
       "    .dataframe thead th {\n",
       "        text-align: right;\n",
       "    }\n",
       "</style>\n",
       "<table border=\"1\" class=\"dataframe\">\n",
       "  <thead>\n",
       "    <tr style=\"text-align: right;\">\n",
       "      <th></th>\n",
       "      <th>Lat</th>\n",
       "      <th>Lon</th>\n",
       "    </tr>\n",
       "    <tr>\n",
       "      <th>People</th>\n",
       "      <th></th>\n",
       "      <th></th>\n",
       "    </tr>\n",
       "  </thead>\n",
       "  <tbody>\n",
       "    <tr>\n",
       "      <th>0</th>\n",
       "      <td>2.868615</td>\n",
       "      <td>101.673326</td>\n",
       "    </tr>\n",
       "    <tr>\n",
       "      <th>1</th>\n",
       "      <td>2.878383</td>\n",
       "      <td>101.607508</td>\n",
       "    </tr>\n",
       "    <tr>\n",
       "      <th>2</th>\n",
       "      <td>2.871754</td>\n",
       "      <td>101.599514</td>\n",
       "    </tr>\n",
       "    <tr>\n",
       "      <th>3</th>\n",
       "      <td>3.027363</td>\n",
       "      <td>101.652546</td>\n",
       "    </tr>\n",
       "    <tr>\n",
       "      <th>4</th>\n",
       "      <td>2.997368</td>\n",
       "      <td>101.626043</td>\n",
       "    </tr>\n",
       "  </tbody>\n",
       "</table>\n",
       "</div>"
      ],
      "text/plain": [
       "             Lat         Lon\n",
       "People                      \n",
       "0       2.868615  101.673326\n",
       "1       2.878383  101.607508\n",
       "2       2.871754  101.599514\n",
       "3       3.027363  101.652546\n",
       "4       2.997368  101.626043"
      ]
     },
     "execution_count": 2,
     "metadata": {},
     "output_type": "execute_result"
    }
   ],
   "source": [
    "people = pd.read_csv(\"people.csv\", index_col=0)\n",
    "people.head()"
   ]
  },
  {
   "cell_type": "code",
   "execution_count": 3,
   "id": "e22db816-0579-47b5-a3bf-2c23790fd70f",
   "metadata": {},
   "outputs": [
    {
     "data": {
      "text/html": [
       "<div>\n",
       "<style scoped>\n",
       "    .dataframe tbody tr th:only-of-type {\n",
       "        vertical-align: middle;\n",
       "    }\n",
       "\n",
       "    .dataframe tbody tr th {\n",
       "        vertical-align: top;\n",
       "    }\n",
       "\n",
       "    .dataframe thead th {\n",
       "        text-align: right;\n",
       "    }\n",
       "</style>\n",
       "<table border=\"1\" class=\"dataframe\">\n",
       "  <thead>\n",
       "    <tr style=\"text-align: right;\">\n",
       "      <th></th>\n",
       "      <th>Lat</th>\n",
       "      <th>Lon</th>\n",
       "    </tr>\n",
       "    <tr>\n",
       "      <th>PPV</th>\n",
       "      <th></th>\n",
       "      <th></th>\n",
       "    </tr>\n",
       "  </thead>\n",
       "  <tbody>\n",
       "    <tr>\n",
       "      <th>0</th>\n",
       "      <td>2.864831</td>\n",
       "      <td>101.694876</td>\n",
       "    </tr>\n",
       "    <tr>\n",
       "      <th>1</th>\n",
       "      <td>3.311896</td>\n",
       "      <td>101.585703</td>\n",
       "    </tr>\n",
       "    <tr>\n",
       "      <th>2</th>\n",
       "      <td>3.020707</td>\n",
       "      <td>101.650831</td>\n",
       "    </tr>\n",
       "    <tr>\n",
       "      <th>3</th>\n",
       "      <td>3.096667</td>\n",
       "      <td>101.706738</td>\n",
       "    </tr>\n",
       "    <tr>\n",
       "      <th>4</th>\n",
       "      <td>3.263520</td>\n",
       "      <td>101.470738</td>\n",
       "    </tr>\n",
       "  </tbody>\n",
       "</table>\n",
       "</div>"
      ],
      "text/plain": [
       "          Lat         Lon\n",
       "PPV                      \n",
       "0    2.864831  101.694876\n",
       "1    3.311896  101.585703\n",
       "2    3.020707  101.650831\n",
       "3    3.096667  101.706738\n",
       "4    3.263520  101.470738"
      ]
     },
     "execution_count": 3,
     "metadata": {},
     "output_type": "execute_result"
    }
   ],
   "source": [
    "ppv = pd.read_csv(\"ppv.csv\", index_col=0)\n",
    "ppv.head()"
   ]
  },
  {
   "cell_type": "markdown",
   "id": "214a2d4d-6e92-4422-9945-ea3427e3c4f8",
   "metadata": {},
   "source": [
    "### Method 1"
   ]
  },
  {
   "cell_type": "code",
   "execution_count": 4,
   "id": "0f077436-97d1-4d68-b540-f1a6e87e0999",
   "metadata": {},
   "outputs": [],
   "source": [
    "def nearest_ppv(df_1, df_2):\n",
    "    people_lat = np.array(df_1['Lat'].tolist())\n",
    "    people_lon = np.array(df_1['Lon'].tolist())\n",
    "    ppv_lat = np.array(df_2['Lat'].tolist())\n",
    "    ppv_lon = np.array(df_2['Lon'].tolist())\n",
    "    people_lat = np.deg2rad(people_lat)\n",
    "    people_lon = np.deg2rad(people_lon)\n",
    "    ppv_lat = np.deg2rad(ppv_lat)\n",
    "    ppv_lon = np.deg2rad(ppv_lon)\n",
    "    diff_lat = people_lat[:,None] - ppv_lat[:]\n",
    "    diff_lng = people_lon[:,None] - ppv_lon[:]\n",
    "    d = np.sin(diff_lat/2)**2 + np.cos(people_lat[:,None])*np.cos(ppv_lat[:]) * np.sin(diff_lng/2)**2\n",
    "    return 2 * 6371 * np.arcsin(np.sqrt(d))"
   ]
  },
  {
   "cell_type": "code",
   "execution_count": 5,
   "id": "35385eb8-44d6-42d3-9176-9294e7a01294",
   "metadata": {},
   "outputs": [],
   "source": [
    "execution_time = {}\n",
    "for n in range(50):\n",
    "    # get the start time\n",
    "    st = time.time()\n",
    "\n",
    "    people[\"nearest_ppv_1\"] = ppv.loc[ppv.index[np.argmin(nearest_ppv(people, ppv), axis=1)]].index\n",
    "    people.head()\n",
    "\n",
    "    # get the end time\n",
    "    et = time.time()\n",
    "\n",
    "    # get the execution time\n",
    "    elapsed_time = et - st\n",
    "    execution_time[n+1] = elapsed_time"
   ]
  },
  {
   "cell_type": "code",
   "execution_count": 7,
   "id": "77f3565a-7af5-4d50-bbbd-9c5cbeda33a1",
   "metadata": {},
   "outputs": [
    {
     "data": {
      "text/html": [
       "<div>\n",
       "<style scoped>\n",
       "    .dataframe tbody tr th:only-of-type {\n",
       "        vertical-align: middle;\n",
       "    }\n",
       "\n",
       "    .dataframe tbody tr th {\n",
       "        vertical-align: top;\n",
       "    }\n",
       "\n",
       "    .dataframe thead th {\n",
       "        text-align: right;\n",
       "    }\n",
       "</style>\n",
       "<table border=\"1\" class=\"dataframe\">\n",
       "  <thead>\n",
       "    <tr style=\"text-align: right;\">\n",
       "      <th></th>\n",
       "      <th>time_1</th>\n",
       "    </tr>\n",
       "  </thead>\n",
       "  <tbody>\n",
       "    <tr>\n",
       "      <th>1</th>\n",
       "      <td>0.035111</td>\n",
       "    </tr>\n",
       "    <tr>\n",
       "      <th>2</th>\n",
       "      <td>0.022871</td>\n",
       "    </tr>\n",
       "    <tr>\n",
       "      <th>3</th>\n",
       "      <td>0.021451</td>\n",
       "    </tr>\n",
       "    <tr>\n",
       "      <th>4</th>\n",
       "      <td>0.021151</td>\n",
       "    </tr>\n",
       "    <tr>\n",
       "      <th>5</th>\n",
       "      <td>0.020858</td>\n",
       "    </tr>\n",
       "    <tr>\n",
       "      <th>6</th>\n",
       "      <td>0.021227</td>\n",
       "    </tr>\n",
       "    <tr>\n",
       "      <th>7</th>\n",
       "      <td>0.020844</td>\n",
       "    </tr>\n",
       "    <tr>\n",
       "      <th>8</th>\n",
       "      <td>0.020834</td>\n",
       "    </tr>\n",
       "    <tr>\n",
       "      <th>9</th>\n",
       "      <td>0.021209</td>\n",
       "    </tr>\n",
       "    <tr>\n",
       "      <th>10</th>\n",
       "      <td>0.020975</td>\n",
       "    </tr>\n",
       "    <tr>\n",
       "      <th>11</th>\n",
       "      <td>0.020835</td>\n",
       "    </tr>\n",
       "    <tr>\n",
       "      <th>12</th>\n",
       "      <td>0.026664</td>\n",
       "    </tr>\n",
       "    <tr>\n",
       "      <th>13</th>\n",
       "      <td>0.022057</td>\n",
       "    </tr>\n",
       "    <tr>\n",
       "      <th>14</th>\n",
       "      <td>0.021039</td>\n",
       "    </tr>\n",
       "    <tr>\n",
       "      <th>15</th>\n",
       "      <td>0.021004</td>\n",
       "    </tr>\n",
       "    <tr>\n",
       "      <th>16</th>\n",
       "      <td>0.021196</td>\n",
       "    </tr>\n",
       "    <tr>\n",
       "      <th>17</th>\n",
       "      <td>0.021590</td>\n",
       "    </tr>\n",
       "    <tr>\n",
       "      <th>18</th>\n",
       "      <td>0.025100</td>\n",
       "    </tr>\n",
       "    <tr>\n",
       "      <th>19</th>\n",
       "      <td>0.022447</td>\n",
       "    </tr>\n",
       "    <tr>\n",
       "      <th>20</th>\n",
       "      <td>0.021485</td>\n",
       "    </tr>\n",
       "    <tr>\n",
       "      <th>21</th>\n",
       "      <td>0.021060</td>\n",
       "    </tr>\n",
       "    <tr>\n",
       "      <th>22</th>\n",
       "      <td>0.025344</td>\n",
       "    </tr>\n",
       "    <tr>\n",
       "      <th>23</th>\n",
       "      <td>0.021875</td>\n",
       "    </tr>\n",
       "    <tr>\n",
       "      <th>24</th>\n",
       "      <td>0.024892</td>\n",
       "    </tr>\n",
       "    <tr>\n",
       "      <th>25</th>\n",
       "      <td>0.024719</td>\n",
       "    </tr>\n",
       "    <tr>\n",
       "      <th>26</th>\n",
       "      <td>0.025035</td>\n",
       "    </tr>\n",
       "    <tr>\n",
       "      <th>27</th>\n",
       "      <td>0.026055</td>\n",
       "    </tr>\n",
       "    <tr>\n",
       "      <th>28</th>\n",
       "      <td>0.026766</td>\n",
       "    </tr>\n",
       "    <tr>\n",
       "      <th>29</th>\n",
       "      <td>0.023618</td>\n",
       "    </tr>\n",
       "    <tr>\n",
       "      <th>30</th>\n",
       "      <td>0.020895</td>\n",
       "    </tr>\n",
       "    <tr>\n",
       "      <th>31</th>\n",
       "      <td>0.020944</td>\n",
       "    </tr>\n",
       "    <tr>\n",
       "      <th>32</th>\n",
       "      <td>0.020829</td>\n",
       "    </tr>\n",
       "    <tr>\n",
       "      <th>33</th>\n",
       "      <td>0.021319</td>\n",
       "    </tr>\n",
       "    <tr>\n",
       "      <th>34</th>\n",
       "      <td>0.022647</td>\n",
       "    </tr>\n",
       "    <tr>\n",
       "      <th>35</th>\n",
       "      <td>0.024314</td>\n",
       "    </tr>\n",
       "    <tr>\n",
       "      <th>36</th>\n",
       "      <td>0.024745</td>\n",
       "    </tr>\n",
       "    <tr>\n",
       "      <th>37</th>\n",
       "      <td>0.022648</td>\n",
       "    </tr>\n",
       "    <tr>\n",
       "      <th>38</th>\n",
       "      <td>0.022356</td>\n",
       "    </tr>\n",
       "    <tr>\n",
       "      <th>39</th>\n",
       "      <td>0.026196</td>\n",
       "    </tr>\n",
       "    <tr>\n",
       "      <th>40</th>\n",
       "      <td>0.025402</td>\n",
       "    </tr>\n",
       "    <tr>\n",
       "      <th>41</th>\n",
       "      <td>0.023648</td>\n",
       "    </tr>\n",
       "    <tr>\n",
       "      <th>42</th>\n",
       "      <td>0.022084</td>\n",
       "    </tr>\n",
       "    <tr>\n",
       "      <th>43</th>\n",
       "      <td>0.023210</td>\n",
       "    </tr>\n",
       "    <tr>\n",
       "      <th>44</th>\n",
       "      <td>0.023479</td>\n",
       "    </tr>\n",
       "    <tr>\n",
       "      <th>45</th>\n",
       "      <td>0.024456</td>\n",
       "    </tr>\n",
       "    <tr>\n",
       "      <th>46</th>\n",
       "      <td>0.022408</td>\n",
       "    </tr>\n",
       "    <tr>\n",
       "      <th>47</th>\n",
       "      <td>0.023657</td>\n",
       "    </tr>\n",
       "    <tr>\n",
       "      <th>48</th>\n",
       "      <td>0.023186</td>\n",
       "    </tr>\n",
       "    <tr>\n",
       "      <th>49</th>\n",
       "      <td>0.024662</td>\n",
       "    </tr>\n",
       "    <tr>\n",
       "      <th>50</th>\n",
       "      <td>0.022691</td>\n",
       "    </tr>\n",
       "  </tbody>\n",
       "</table>\n",
       "</div>"
      ],
      "text/plain": [
       "      time_1\n",
       "1   0.035111\n",
       "2   0.022871\n",
       "3   0.021451\n",
       "4   0.021151\n",
       "5   0.020858\n",
       "6   0.021227\n",
       "7   0.020844\n",
       "8   0.020834\n",
       "9   0.021209\n",
       "10  0.020975\n",
       "11  0.020835\n",
       "12  0.026664\n",
       "13  0.022057\n",
       "14  0.021039\n",
       "15  0.021004\n",
       "16  0.021196\n",
       "17  0.021590\n",
       "18  0.025100\n",
       "19  0.022447\n",
       "20  0.021485\n",
       "21  0.021060\n",
       "22  0.025344\n",
       "23  0.021875\n",
       "24  0.024892\n",
       "25  0.024719\n",
       "26  0.025035\n",
       "27  0.026055\n",
       "28  0.026766\n",
       "29  0.023618\n",
       "30  0.020895\n",
       "31  0.020944\n",
       "32  0.020829\n",
       "33  0.021319\n",
       "34  0.022647\n",
       "35  0.024314\n",
       "36  0.024745\n",
       "37  0.022648\n",
       "38  0.022356\n",
       "39  0.026196\n",
       "40  0.025402\n",
       "41  0.023648\n",
       "42  0.022084\n",
       "43  0.023210\n",
       "44  0.023479\n",
       "45  0.024456\n",
       "46  0.022408\n",
       "47  0.023657\n",
       "48  0.023186\n",
       "49  0.024662\n",
       "50  0.022691"
      ]
     },
     "execution_count": 7,
     "metadata": {},
     "output_type": "execute_result"
    }
   ],
   "source": [
    "df_execution_time = pd.DataFrame.from_dict(execution_time, orient='index', columns=['time_1'])\n",
    "df_execution_time"
   ]
  },
  {
   "cell_type": "markdown",
   "id": "8ea2adea-2efe-41b2-b5a5-acb7e7279955",
   "metadata": {},
   "source": [
    "### Method 2"
   ]
  },
  {
   "cell_type": "code",
   "execution_count": 28,
   "id": "648efec0-3fd6-4298-a8c0-fe920a274384",
   "metadata": {},
   "outputs": [
    {
     "name": "stdout",
     "output_type": "stream",
     "text": [
      "15.915759801864624\n",
      "16.42660617828369\n",
      "17.177436113357544\n",
      "17.746994733810425\n",
      "17.633383989334106\n",
      "18.06120777130127\n",
      "17.787075519561768\n",
      "17.771057605743408\n",
      "17.887356281280518\n",
      "17.697174549102783\n",
      "17.665189266204834\n",
      "17.69538450241089\n",
      "17.62698769569397\n",
      "17.616637706756592\n",
      "17.613274097442627\n",
      "17.808917999267578\n",
      "17.593491315841675\n",
      "17.6322660446167\n",
      "17.550092220306396\n",
      "17.845459461212158\n",
      "17.81755304336548\n",
      "18.205864667892456\n",
      "17.925901889801025\n",
      "17.476584911346436\n",
      "17.88212752342224\n",
      "17.57548475265503\n",
      "17.60327458381653\n",
      "17.947125911712646\n",
      "17.749282360076904\n",
      "17.75593066215515\n",
      "17.688217401504517\n",
      "17.728384017944336\n",
      "17.719443559646606\n",
      "17.817424535751343\n",
      "17.803689002990723\n",
      "17.87580704689026\n",
      "17.85403800010681\n",
      "17.68679118156433\n",
      "17.75384259223938\n",
      "17.67927575111389\n",
      "17.66198420524597\n",
      "17.178277254104614\n",
      "17.796513080596924\n",
      "17.652616262435913\n",
      "17.645846605300903\n",
      "17.738556146621704\n",
      "17.538063287734985\n",
      "17.528071403503418\n",
      "18.096599102020264\n",
      "17.58911442756653\n"
     ]
    }
   ],
   "source": [
    "execution_time = {}\n",
    "len_people = people.shape[0]\n",
    "len_ppv = ppv.shape[0]\n",
    "for n in range(50):\n",
    "    people_to_ppv = []\n",
    "    st = time.time()\n",
    "    people_to_ppv = []\n",
    "    for i in range(len_people):\n",
    "        dist = []\n",
    "        people_lat = people['Lat'][i]\n",
    "        people_lon = people['Lon'][i]\n",
    "        people_lat = np.deg2rad(people_lat)\n",
    "        people_lon = np.deg2rad(people_lon)\n",
    "        for j in range(len_ppv):\n",
    "            ppv_lat = ppv['Lat'][j]\n",
    "            ppv_lon = ppv['Lon'][j]\n",
    "            ppv_lat = np.deg2rad(ppv_lat)\n",
    "            ppv_lon = np.deg2rad(ppv_lon)\n",
    "            diff_lat = people_lat - ppv_lat\n",
    "            diff_lng = people_lon - ppv_lon\n",
    "            d = np.sin(diff_lat/2)**2 + np.cos(people_lat)*np.cos(ppv_lat) * np.sin(diff_lng/2)**2\n",
    "            dist.append(2 * 6371 * np.arcsin(np.sqrt(d)))\n",
    "    #         if j+1 == len(ppv):\n",
    "        people_to_ppv.append(np.argmin(dist))\n",
    "    et = time.time()\n",
    "    elapsed_time = et - st\n",
    "    #     st = time.time()\n",
    "    #     people_to_ppv = []\n",
    "    #     for i in range(len_people):\n",
    "    #         dist = []\n",
    "    #         people_lat = people['Lat'][i]\n",
    "    #         people_lon = people['Lon'][i]\n",
    "    #         people_lat = np.deg2rad(people_lat)\n",
    "    #         people_lon = np.deg2rad(people_lon)\n",
    "    #         for j in range(len_ppv):\n",
    "    #             ppv_lat = ppv['Lat'][j]\n",
    "    #             print(ppv_lat)\n",
    "    #         for j in range(len(ppv)):\n",
    "    #             ppv_lat = ppv.loc[j, 'Lat']\n",
    "    #             ppv_lon = ppv.loc[j, 'Lon']\n",
    "    #             ppv_lat = np.deg2rad(ppv_lat)\n",
    "    #             ppv_lon = np.deg2rad(ppv_lon)\n",
    "    #             diff_lat = people_lat - ppv_lat\n",
    "    #             diff_lng = people_lon - ppv_lon\n",
    "    #             d = np.sin(diff_lat/2)**2 + np.cos(people_lat)*np.cos(ppv_lat) * np.sin(diff_lng/2)**2\n",
    "    #             dist.append(2 * 6371 * np.arcsin(np.sqrt(d)))\n",
    "    #             if j+1 == len(ppv):\n",
    "    #                 people_to_ppv.append(np.argmin(dist))\n",
    "\n",
    "    #     # get the end time\n",
    "    #     et = time.time()\n",
    "\n",
    "    #     # get the execution time\n",
    "    #     elapsed_time = et - st\n",
    "    execution_time[n+1] = elapsed_time"
   ]
  },
  {
   "cell_type": "code",
   "execution_count": 65,
   "id": "b5879b40-40da-4b81-998a-ace9567f7c0b",
   "metadata": {},
   "outputs": [
    {
     "data": {
      "text/html": [
       "<div>\n",
       "<style scoped>\n",
       "    .dataframe tbody tr th:only-of-type {\n",
       "        vertical-align: middle;\n",
       "    }\n",
       "\n",
       "    .dataframe tbody tr th {\n",
       "        vertical-align: top;\n",
       "    }\n",
       "\n",
       "    .dataframe thead th {\n",
       "        text-align: right;\n",
       "    }\n",
       "</style>\n",
       "<table border=\"1\" class=\"dataframe\">\n",
       "  <thead>\n",
       "    <tr style=\"text-align: right;\">\n",
       "      <th></th>\n",
       "      <th>Lat</th>\n",
       "      <th>Lon</th>\n",
       "      <th>nearest_ppv_1</th>\n",
       "      <th>nearest_ppv_2</th>\n",
       "    </tr>\n",
       "    <tr>\n",
       "      <th>People</th>\n",
       "      <th></th>\n",
       "      <th></th>\n",
       "      <th></th>\n",
       "      <th></th>\n",
       "    </tr>\n",
       "  </thead>\n",
       "  <tbody>\n",
       "    <tr>\n",
       "      <th>9995</th>\n",
       "      <td>2.995173</td>\n",
       "      <td>101.695038</td>\n",
       "      <td>40</td>\n",
       "      <td>40</td>\n",
       "    </tr>\n",
       "    <tr>\n",
       "      <th>9996</th>\n",
       "      <td>3.006136</td>\n",
       "      <td>101.693904</td>\n",
       "      <td>40</td>\n",
       "      <td>40</td>\n",
       "    </tr>\n",
       "    <tr>\n",
       "      <th>9997</th>\n",
       "      <td>2.970721</td>\n",
       "      <td>101.716344</td>\n",
       "      <td>58</td>\n",
       "      <td>58</td>\n",
       "    </tr>\n",
       "    <tr>\n",
       "      <th>9998</th>\n",
       "      <td>2.980272</td>\n",
       "      <td>101.644367</td>\n",
       "      <td>2</td>\n",
       "      <td>2</td>\n",
       "    </tr>\n",
       "    <tr>\n",
       "      <th>9999</th>\n",
       "      <td>2.942730</td>\n",
       "      <td>101.706985</td>\n",
       "      <td>58</td>\n",
       "      <td>58</td>\n",
       "    </tr>\n",
       "  </tbody>\n",
       "</table>\n",
       "</div>"
      ],
      "text/plain": [
       "             Lat         Lon  nearest_ppv_1  nearest_ppv_2\n",
       "People                                                    \n",
       "9995    2.995173  101.695038             40             40\n",
       "9996    3.006136  101.693904             40             40\n",
       "9997    2.970721  101.716344             58             58\n",
       "9998    2.980272  101.644367              2              2\n",
       "9999    2.942730  101.706985             58             58"
      ]
     },
     "execution_count": 65,
     "metadata": {},
     "output_type": "execute_result"
    }
   ],
   "source": [
    "people[\"nearest_ppv_2\"] = ppv.loc[ppv.index[np.array(people_to_ppv)]].index\n",
    "people.tail()"
   ]
  },
  {
   "cell_type": "code",
   "execution_count": 30,
   "id": "55518c29-3c7f-40d0-8b1d-2f6eac2c8669",
   "metadata": {},
   "outputs": [
    {
     "data": {
      "text/html": [
       "<div>\n",
       "<style scoped>\n",
       "    .dataframe tbody tr th:only-of-type {\n",
       "        vertical-align: middle;\n",
       "    }\n",
       "\n",
       "    .dataframe tbody tr th {\n",
       "        vertical-align: top;\n",
       "    }\n",
       "\n",
       "    .dataframe thead th {\n",
       "        text-align: right;\n",
       "    }\n",
       "</style>\n",
       "<table border=\"1\" class=\"dataframe\">\n",
       "  <thead>\n",
       "    <tr style=\"text-align: right;\">\n",
       "      <th></th>\n",
       "      <th>time_1</th>\n",
       "      <th>time_2</th>\n",
       "    </tr>\n",
       "  </thead>\n",
       "  <tbody>\n",
       "    <tr>\n",
       "      <th>1</th>\n",
       "      <td>0.035111</td>\n",
       "      <td>15.915760</td>\n",
       "    </tr>\n",
       "    <tr>\n",
       "      <th>2</th>\n",
       "      <td>0.022871</td>\n",
       "      <td>16.426606</td>\n",
       "    </tr>\n",
       "    <tr>\n",
       "      <th>3</th>\n",
       "      <td>0.021451</td>\n",
       "      <td>17.177436</td>\n",
       "    </tr>\n",
       "    <tr>\n",
       "      <th>4</th>\n",
       "      <td>0.021151</td>\n",
       "      <td>17.746995</td>\n",
       "    </tr>\n",
       "    <tr>\n",
       "      <th>5</th>\n",
       "      <td>0.020858</td>\n",
       "      <td>17.633384</td>\n",
       "    </tr>\n",
       "  </tbody>\n",
       "</table>\n",
       "</div>"
      ],
      "text/plain": [
       "     time_1     time_2\n",
       "1  0.035111  15.915760\n",
       "2  0.022871  16.426606\n",
       "3  0.021451  17.177436\n",
       "4  0.021151  17.746995\n",
       "5  0.020858  17.633384"
      ]
     },
     "execution_count": 30,
     "metadata": {},
     "output_type": "execute_result"
    }
   ],
   "source": [
    "df_execution_time[\"time_2\"] = execution_time.values()\n",
    "df_execution_time.head()"
   ]
  },
  {
   "cell_type": "markdown",
   "id": "f4a6425f-ea09-4ae0-aad5-4132283903d3",
   "metadata": {},
   "source": [
    "### Method 3"
   ]
  },
  {
   "cell_type": "code",
   "execution_count": 66,
   "id": "51763a76",
   "metadata": {},
   "outputs": [],
   "source": [
    "from sklearn.neighbors import KDTree"
   ]
  },
  {
   "cell_type": "code",
   "execution_count": 69,
   "id": "f028d2b9",
   "metadata": {},
   "outputs": [],
   "source": [
    "execution_time\n",
    "distances = None\n",
    "indices = None\n",
    "for n in range(50):\n",
    "    st = time.time()\n",
    "    kd = KDTree(ppv[[\"Lat\", \"Lon\"]].values, metric='euclidean')\n",
    "    distances, indices = kd.query(people[[\"Lat\", \"Lon\"]], k = 1)\n",
    "    et = time.time()\n",
    "    elapsed_time = et - st\n",
    "    execution_time[n+1] = elapsed_time"
   ]
  },
  {
   "cell_type": "code",
   "execution_count": 70,
   "id": "21a93bae",
   "metadata": {},
   "outputs": [
    {
     "data": {
      "text/html": [
       "<div>\n",
       "<style scoped>\n",
       "    .dataframe tbody tr th:only-of-type {\n",
       "        vertical-align: middle;\n",
       "    }\n",
       "\n",
       "    .dataframe tbody tr th {\n",
       "        vertical-align: top;\n",
       "    }\n",
       "\n",
       "    .dataframe thead th {\n",
       "        text-align: right;\n",
       "    }\n",
       "</style>\n",
       "<table border=\"1\" class=\"dataframe\">\n",
       "  <thead>\n",
       "    <tr style=\"text-align: right;\">\n",
       "      <th></th>\n",
       "      <th>time_1</th>\n",
       "      <th>time_2</th>\n",
       "      <th>time_3</th>\n",
       "    </tr>\n",
       "  </thead>\n",
       "  <tbody>\n",
       "    <tr>\n",
       "      <th>1</th>\n",
       "      <td>0.035111</td>\n",
       "      <td>15.915760</td>\n",
       "      <td>0.005276</td>\n",
       "    </tr>\n",
       "    <tr>\n",
       "      <th>2</th>\n",
       "      <td>0.022871</td>\n",
       "      <td>16.426606</td>\n",
       "      <td>0.004638</td>\n",
       "    </tr>\n",
       "    <tr>\n",
       "      <th>3</th>\n",
       "      <td>0.021451</td>\n",
       "      <td>17.177436</td>\n",
       "      <td>0.004637</td>\n",
       "    </tr>\n",
       "    <tr>\n",
       "      <th>4</th>\n",
       "      <td>0.021151</td>\n",
       "      <td>17.746995</td>\n",
       "      <td>0.004487</td>\n",
       "    </tr>\n",
       "    <tr>\n",
       "      <th>5</th>\n",
       "      <td>0.020858</td>\n",
       "      <td>17.633384</td>\n",
       "      <td>0.004566</td>\n",
       "    </tr>\n",
       "  </tbody>\n",
       "</table>\n",
       "</div>"
      ],
      "text/plain": [
       "     time_1     time_2    time_3\n",
       "1  0.035111  15.915760  0.005276\n",
       "2  0.022871  16.426606  0.004638\n",
       "3  0.021451  17.177436  0.004637\n",
       "4  0.021151  17.746995  0.004487\n",
       "5  0.020858  17.633384  0.004566"
      ]
     },
     "execution_count": 70,
     "metadata": {},
     "output_type": "execute_result"
    }
   ],
   "source": [
    "df_execution_time[\"time_3\"] = execution_time.values()\n",
    "df_execution_time.head()"
   ]
  },
  {
   "cell_type": "code",
   "execution_count": null,
   "id": "27fca01e-5089-4d10-aebd-ae080e4b4172",
   "metadata": {},
   "outputs": [],
   "source": [
    "n_ppv_3 = [x[0] for x in indices]\n",
    "people[\"nearest_ppv_3\"] = n_ppv_3\n",
    "people.head()"
   ]
  },
  {
   "cell_type": "code",
   "execution_count": 16,
   "id": "84d968bc-5f6f-4ce1-bae5-e20d03f1f88d",
   "metadata": {},
   "outputs": [],
   "source": [
    "people.to_csv('people_to_ppv.csv')"
   ]
  },
  {
   "cell_type": "code",
   "execution_count": 92,
   "id": "615f0dd7-8e49-41e8-8439-19c4f6887583",
   "metadata": {},
   "outputs": [],
   "source": [
    "df_execution_time.to_csv('execution_time_1.csv') #for computer 1"
   ]
  },
  {
   "cell_type": "code",
   "execution_count": null,
   "id": "3a3934c7-dbd0-49a9-8d37-e399c01d0019",
   "metadata": {},
   "outputs": [],
   "source": [
    "df_execution_time.to_csv('execution_time_2.csv') #for computer 2"
   ]
  },
  {
   "cell_type": "markdown",
   "id": "d93ba882-05b9-47f4-909d-0cb44f24a330",
   "metadata": {},
   "source": [
    "### Analysis"
   ]
  },
  {
   "cell_type": "markdown",
   "id": "2202efab-883e-426b-a874-3ce8b1c7d060",
   "metadata": {},
   "source": [
    "### Task 1"
   ]
  },
  {
   "cell_type": "code",
   "execution_count": null,
   "id": "90d85df2-43cb-4693-adf2-a58b14209640",
   "metadata": {},
   "outputs": [],
   "source": [
    "df1 = pd.read_csv('execution_time_1.csv', index_col=0) # computer 1\n",
    "df1.head()"
   ]
  },
  {
   "cell_type": "code",
   "execution_count": null,
   "id": "df2d6476-b2cf-4964-a2f6-da3e21661201",
   "metadata": {},
   "outputs": [],
   "source": [
    "df2 = pd.read_csv('execution_time_2.csv', index_col=0)  # computer 2\n",
    "df2.head()"
   ]
  },
  {
   "cell_type": "markdown",
   "id": "be4f5428-193d-4620-9cd8-eabd2c045a15",
   "metadata": {
    "tags": []
   },
   "source": [
    "### Task 2"
   ]
  },
  {
   "cell_type": "code",
   "execution_count": 95,
   "id": "ff6e16f2-d9d8-433c-827e-0a20d5769647",
   "metadata": {},
   "outputs": [
    {
     "data": {
      "image/png": "[encoded data removed]",
      "text/plain": [
       "<Figure size 432x288 with 1 Axes>"
      ]
     },
     "metadata": {
      "needs_background": "light"
     },
     "output_type": "display_data"
    }
   ],
   "source": [
    "sns.kdeplot(df1['time_1'], shade=True).set(title='Method 1 Execution Time Density Plot')\n",
    "plt.savefig('Q2_Method1.png')\n",
    "plt.show()"
   ]
  },
  {
   "cell_type": "code",
   "execution_count": 96,
   "id": "52b6b58c-4a04-4266-9e5c-41710d3cb7c1",
   "metadata": {},
   "outputs": [
    {
     "data": {
      "image/png": "[encoded data removed]",
      "text/plain": [
       "<Figure size 432x288 with 1 Axes>"
      ]
     },
     "metadata": {
      "needs_background": "light"
     },
     "output_type": "display_data"
    }
   ],
   "source": [
    "sns.kdeplot(df1['time_2'], shade=True).set(title='Method 2 Execution Time Density Plot')\n",
    "plt.savefig('Q2_Method2.png')\n",
    "plt.show()"
   ]
  },
  {
   "cell_type": "code",
   "execution_count": 97,
   "id": "d319462f-b7bf-4ea6-995c-fdb8c2277add",
   "metadata": {},
   "outputs": [
    {
     "data": {
      "image/png": "[encoded data removed]",
      "text/plain": [
       "<Figure size 432x288 with 1 Axes>"
      ]
     },
     "metadata": {
      "needs_background": "light"
     },
     "output_type": "display_data"
    }
   ],
   "source": [
    "sns.kdeplot(df1['time_3'], shade=True).set(title='Method 3 Execution Time Density Plot')\n",
    "plt.savefig('Q2_Method3.png')\n",
    "plt.show()"
   ]
  },
  {
   "cell_type": "code",
   "execution_count": 98,
   "id": "1117a827-69df-4dfd-8c84-a16a3133ee7d",
   "metadata": {},
   "outputs": [
    {
     "data": {
      "image/png": "[encoded data removed]",
      "text/plain": [
       "<Figure size 432x288 with 1 Axes>"
      ]
     },
     "metadata": {
      "needs_background": "light"
     },
     "output_type": "display_data"
    }
   ],
   "source": [
    "fig = sns.kdeplot(df1['time_1'], shade=True, color=\"b\", label='Method 1').set(title='Overall Execution Time Density Plot')\n",
    "fig = sns.kdeplot(df1['time_2'], shade=True, color=\"r\", label='Method 2')\n",
    "fig = sns.kdeplot(df1['time_3'], shade=True, color=\"g\", label='Method 3')\n",
    "plt.legend()\n",
    "plt.savefig('Q2_Overall.png')\n",
    "plt.show()"
   ]
  },
  {
   "cell_type": "code",
   "execution_count": 99,
   "id": "8aa22fad-48e4-47eb-a16e-559b01047736",
   "metadata": {},
   "outputs": [],
   "source": [
    "df_1 = df1['time_1']\n",
    "df_2 = df1['time_2']\n",
    "df_3 = df1['time_3']"
   ]
  },
  {
   "cell_type": "code",
   "execution_count": 100,
   "id": "c019863c-af24-445f-88e6-f8bf2b06dfda",
   "metadata": {},
   "outputs": [
    {
     "name": "stdout",
     "output_type": "stream",
     "text": [
      "0.002584347172148318 0.41364445268713146 46.5427376399674\n"
     ]
    }
   ],
   "source": [
    "print(np.var(df_1), np.var(df_2), np.var(df_3))"
   ]
  },
  {
   "cell_type": "code",
   "execution_count": 101,
   "id": "233c2046-5bbe-43c9-9730-796c8e96d331",
   "metadata": {},
   "outputs": [
    {
     "data": {
      "text/plain": [
       "Ttest_indResult(statistic=-408.87603901864696, pvalue=3.490329089101434e-89)"
      ]
     },
     "execution_count": 101,
     "metadata": {},
     "output_type": "execute_result"
    }
   ],
   "source": [
    "stats.ttest_ind(a=df_1, b=df_2, equal_var=False)"
   ]
  },
  {
   "cell_type": "code",
   "execution_count": 102,
   "id": "3aff5392-4e1d-4f2e-8f74-eb66b96e65ad",
   "metadata": {},
   "outputs": [
    {
     "data": {
      "text/plain": [
       "Ttest_indResult(statistic=-43.03606840164349, pvalue=1.3522013764077375e-40)"
      ]
     },
     "execution_count": 102,
     "metadata": {},
     "output_type": "execute_result"
    }
   ],
   "source": [
    "stats.ttest_ind(a=df_1, b=df_3, equal_var=False)"
   ]
  },
  {
   "cell_type": "code",
   "execution_count": 103,
   "id": "ee901bd0-61bb-41cc-ac3c-2816a76cccbc",
   "metadata": {},
   "outputs": [
    {
     "data": {
      "text/plain": [
       "Ttest_indResult(statistic=-4.351744184167847, pvalue=6.687894604233358e-05)"
      ]
     },
     "execution_count": 103,
     "metadata": {},
     "output_type": "execute_result"
    }
   ],
   "source": [
    "stats.ttest_ind(a=df_2, b=df_3, equal_var=False)"
   ]
  },
  {
   "cell_type": "markdown",
   "id": "fd1e2f85-8c5f-4d2c-aa88-94c2f2cc594b",
   "metadata": {},
   "source": [
    "The p-value obtained from t-test analysis are 3.490329089101434e-89, 1.3522013764077375e-40 and 6.687894604233358e-05. Therefore, we conclude that there are significant differences among the methods. Those p-values are less than alpha = 0.05, we have to reject the null hypothesis of the test. We have sufficient evidence to say that the mean execution time between the three methods is different."
   ]
  },
  {
   "cell_type": "code",
   "execution_count": null,
   "id": "c585af2c-4a6e-49a7-b6e3-faeb5c347e8b",
   "metadata": {},
   "outputs": [],
   "source": []
  }
 ],
 "metadata": {
  "kernelspec": {
   "display_name": "Python 3 (ipykernel)",
   "language": "python",
   "name": "python3"
  },
  "language_info": {
   "codemirror_mode": {
    "name": "ipython",
    "version": 3
   },
   "file_extension": ".py",
   "mimetype": "text/x-python",
   "name": "python",
   "nbconvert_exporter": "python",
   "pygments_lexer": "ipython3",
   "version": "3.10.4"
  }
 },
 "nbformat": 4,
 "nbformat_minor": 5
}
