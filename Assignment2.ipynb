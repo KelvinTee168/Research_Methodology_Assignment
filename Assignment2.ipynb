{
 "cells": [
  {
   "cell_type": "markdown",
   "id": "d5a88115-9eab-40e6-96a0-a7e045b2e15d",
   "metadata": {},
   "source": [
    "### Libraries"
   ]
  },
  {
   "cell_type": "code",
   "execution_count": 1,
   "id": "5a0ba072-e01d-4715-a018-463576a6518e",
   "metadata": {},
   "outputs": [],
   "source": [
    "import numpy as np\n",
    "import matplotlib.pyplot as plt\n",
    "%matplotlib inline\n",
    "\n",
    "import seaborn as sns\n",
    "import pandas as pd\n",
    "\n",
    "import warnings\n",
    "warnings.simplefilter(action='ignore', category=FutureWarning)\n",
    "\n",
    "import time"
   ]
  },
  {
   "cell_type": "markdown",
   "id": "b9ed0915-74d6-4f6b-ab44-a10d98feac2a",
   "metadata": {},
   "source": [
    "### Data Collection"
   ]
  },
  {
   "cell_type": "code",
   "execution_count": 2,
   "id": "7a137812-fb77-4f52-a4d0-fbb392035283",
   "metadata": {},
   "outputs": [
    {
     "data": {
      "text/html": [
       "<div>\n",
       "<style scoped>\n",
       "    .dataframe tbody tr th:only-of-type {\n",
       "        vertical-align: middle;\n",
       "    }\n",
       "\n",
       "    .dataframe tbody tr th {\n",
       "        vertical-align: top;\n",
       "    }\n",
       "\n",
       "    .dataframe thead th {\n",
       "        text-align: right;\n",
       "    }\n",
       "</style>\n",
       "<table border=\"1\" class=\"dataframe\">\n",
       "  <thead>\n",
       "    <tr style=\"text-align: right;\">\n",
       "      <th></th>\n",
       "      <th>Lat</th>\n",
       "      <th>Lon</th>\n",
       "    </tr>\n",
       "    <tr>\n",
       "      <th>People</th>\n",
       "      <th></th>\n",
       "      <th></th>\n",
       "    </tr>\n",
       "  </thead>\n",
       "  <tbody>\n",
       "    <tr>\n",
       "      <th>0</th>\n",
       "      <td>2.868615</td>\n",
       "      <td>101.673326</td>\n",
       "    </tr>\n",
       "    <tr>\n",
       "      <th>1</th>\n",
       "      <td>2.878383</td>\n",
       "      <td>101.607508</td>\n",
       "    </tr>\n",
       "    <tr>\n",
       "      <th>2</th>\n",
       "      <td>2.871754</td>\n",
       "      <td>101.599514</td>\n",
       "    </tr>\n",
       "    <tr>\n",
       "      <th>3</th>\n",
       "      <td>3.027363</td>\n",
       "      <td>101.652546</td>\n",
       "    </tr>\n",
       "    <tr>\n",
       "      <th>4</th>\n",
       "      <td>2.997368</td>\n",
       "      <td>101.626043</td>\n",
       "    </tr>\n",
       "  </tbody>\n",
       "</table>\n",
       "</div>"
      ],
      "text/plain": [
       "             Lat         Lon\n",
       "People                      \n",
       "0       2.868615  101.673326\n",
       "1       2.878383  101.607508\n",
       "2       2.871754  101.599514\n",
       "3       3.027363  101.652546\n",
       "4       2.997368  101.626043"
      ]
     },
     "execution_count": 2,
     "metadata": {},
     "output_type": "execute_result"
    }
   ],
   "source": [
    "people = pd.read_csv(\"people.csv\", index_col=0)\n",
    "people.head()"
   ]
  },
  {
   "cell_type": "code",
   "execution_count": 3,
   "id": "e22db816-0579-47b5-a3bf-2c23790fd70f",
   "metadata": {},
   "outputs": [
    {
     "data": {
      "text/html": [
       "<div>\n",
       "<style scoped>\n",
       "    .dataframe tbody tr th:only-of-type {\n",
       "        vertical-align: middle;\n",
       "    }\n",
       "\n",
       "    .dataframe tbody tr th {\n",
       "        vertical-align: top;\n",
       "    }\n",
       "\n",
       "    .dataframe thead th {\n",
       "        text-align: right;\n",
       "    }\n",
       "</style>\n",
       "<table border=\"1\" class=\"dataframe\">\n",
       "  <thead>\n",
       "    <tr style=\"text-align: right;\">\n",
       "      <th></th>\n",
       "      <th>Lat</th>\n",
       "      <th>Lon</th>\n",
       "    </tr>\n",
       "    <tr>\n",
       "      <th>PPV</th>\n",
       "      <th></th>\n",
       "      <th></th>\n",
       "    </tr>\n",
       "  </thead>\n",
       "  <tbody>\n",
       "    <tr>\n",
       "      <th>0</th>\n",
       "      <td>2.864831</td>\n",
       "      <td>101.694876</td>\n",
       "    </tr>\n",
       "    <tr>\n",
       "      <th>1</th>\n",
       "      <td>3.311896</td>\n",
       "      <td>101.585703</td>\n",
       "    </tr>\n",
       "    <tr>\n",
       "      <th>2</th>\n",
       "      <td>3.020707</td>\n",
       "      <td>101.650831</td>\n",
       "    </tr>\n",
       "    <tr>\n",
       "      <th>3</th>\n",
       "      <td>3.096667</td>\n",
       "      <td>101.706738</td>\n",
       "    </tr>\n",
       "    <tr>\n",
       "      <th>4</th>\n",
       "      <td>3.263520</td>\n",
       "      <td>101.470738</td>\n",
       "    </tr>\n",
       "  </tbody>\n",
       "</table>\n",
       "</div>"
      ],
      "text/plain": [
       "          Lat         Lon\n",
       "PPV                      \n",
       "0    2.864831  101.694876\n",
       "1    3.311896  101.585703\n",
       "2    3.020707  101.650831\n",
       "3    3.096667  101.706738\n",
       "4    3.263520  101.470738"
      ]
     },
     "execution_count": 3,
     "metadata": {},
     "output_type": "execute_result"
    }
   ],
   "source": [
    "ppv = pd.read_csv(\"ppv.csv\", index_col=0)\n",
    "ppv.head()"
   ]
  },
  {
   "cell_type": "markdown",
   "id": "214a2d4d-6e92-4422-9945-ea3427e3c4f8",
   "metadata": {},
   "source": [
    "### Method 1"
   ]
  },
  {
   "cell_type": "code",
   "execution_count": 4,
   "id": "0f077436-97d1-4d68-b540-f1a6e87e0999",
   "metadata": {},
   "outputs": [],
   "source": [
    "def nearest_ppv(df_1, df_2):\n",
    "    people_lat = np.array(df_1['Lat'].tolist())\n",
    "    people_lon = np.array(df_1['Lon'].tolist())\n",
    "    ppv_lat = np.array(df_2['Lat'].tolist())\n",
    "    ppv_lon = np.array(df_2['Lon'].tolist())\n",
    "    people_lat = np.deg2rad(people_lat)\n",
    "    people_lon = np.deg2rad(people_lon)\n",
    "    ppv_lat = np.deg2rad(ppv_lat)\n",
    "    ppv_lon = np.deg2rad(ppv_lon)\n",
    "    diff_lat = people_lat[:,None] - ppv_lat[:]\n",
    "    diff_lng = people_lon[:,None] - ppv_lon[:]\n",
    "    d = np.sin(diff_lat/2)**2 + np.cos(people_lat[:,None])*np.cos(ppv_lat[:]) * np.sin(diff_lng/2)**2\n",
    "    return 2 * 6371 * np.arcsin(np.sqrt(d))"
   ]
  },
  {
   "cell_type": "code",
   "execution_count": 5,
   "id": "35385eb8-44d6-42d3-9176-9294e7a01294",
   "metadata": {},
   "outputs": [],
   "source": [
    "execution_time = {}\n",
    "for n in range(50):\n",
    "    # get the start time\n",
    "    st = time.time()\n",
    "\n",
    "    people[\"nearest_ppv\"] = ppv.loc[ppv.index[np.argmin(nearest_ppv(people, ppv), axis=1)]].index\n",
    "    people.head()\n",
    "\n",
    "    # get the end time\n",
    "    et = time.time()\n",
    "\n",
    "    # get the execution time\n",
    "    elapsed_time = et - st\n",
    "    execution_time[n+1] = elapsed_time"
   ]
  },
  {
   "cell_type": "code",
   "execution_count": 6,
   "id": "77f3565a-7af5-4d50-bbbd-9c5cbeda33a1",
   "metadata": {},
   "outputs": [],
   "source": [
    "df_execution_time = pd.DataFrame.from_dict(execution_time, orient='index', columns=['Time'])"
   ]
  },
  {
   "cell_type": "code",
   "execution_count": 7,
   "id": "d915b1a3-c549-438a-9f80-202762fa0bfd",
   "metadata": {},
   "outputs": [],
   "source": [
    "people.to_csv('people_to_ppv_1.csv')"
   ]
  },
  {
   "cell_type": "code",
   "execution_count": 8,
   "id": "21e48785-41fd-4b2b-a643-ba0e2d266f47",
   "metadata": {},
   "outputs": [],
   "source": [
    "df_execution_time.to_csv('execution_time_1.csv')"
   ]
  },
  {
   "cell_type": "markdown",
   "id": "31a2694f-9b98-4297-b5f3-62bc990e51f3",
   "metadata": {},
   "source": [
    "### Testing"
   ]
  },
  {
   "cell_type": "code",
   "execution_count": 9,
   "id": "21830289-e012-4cd6-8ecf-e9a2aa6f4185",
   "metadata": {},
   "outputs": [],
   "source": [
    "df_1 = pd.DataFrame({\"ID\": [1, 2], \n",
    "                     \"lat\": [-2.0, -0.5],\n",
    "                    \"lon\": [0.0, 0.0]})\n",
    "df_1.set_index(\"ID\", inplace=True)\n",
    "df_2 = pd.DataFrame({\"Name\": [\"A\", \"B\", \"C\"], \n",
    "                     \"lat\": [1.0, 0.0,-2.0],\n",
    "                    \"lon\": [0.0, 0.0, 0.0]})\n",
    "df_2.set_index(\"Name\", inplace=True)"
   ]
  },
  {
   "cell_type": "code",
   "execution_count": 10,
   "id": "c2176b96-2540-4f26-89c0-9cec86d5405d",
   "metadata": {},
   "outputs": [],
   "source": [
    "def min_distance(df_1, df_2):\n",
    "    df_1_lat = np.array(df_1['lat'].tolist())\n",
    "    df_1_lon = np.array(df_1['lon'].tolist())\n",
    "    df_2_lat = np.array(df_2['lat'].tolist())\n",
    "    df_2_lon = np.array(df_2['lon'].tolist())\n",
    "    diff_lat = df_1_lat[:,None] - df_2_lat[:]\n",
    "    diff_lng = df_1_lon[:,None] - df_2_lon[:]\n",
    "    d = (diff_lat/2)**2 + (diff_lng/2)**2\n",
    "    return (np.sqrt(d))"
   ]
  },
  {
   "cell_type": "code",
   "execution_count": 11,
   "id": "a39fdae9-cbe5-4346-b4cd-682f87e3be8a",
   "metadata": {},
   "outputs": [
    {
     "data": {
      "text/html": [
       "<div>\n",
       "<style scoped>\n",
       "    .dataframe tbody tr th:only-of-type {\n",
       "        vertical-align: middle;\n",
       "    }\n",
       "\n",
       "    .dataframe tbody tr th {\n",
       "        vertical-align: top;\n",
       "    }\n",
       "\n",
       "    .dataframe thead th {\n",
       "        text-align: right;\n",
       "    }\n",
       "</style>\n",
       "<table border=\"1\" class=\"dataframe\">\n",
       "  <thead>\n",
       "    <tr style=\"text-align: right;\">\n",
       "      <th></th>\n",
       "      <th>lat</th>\n",
       "      <th>lon</th>\n",
       "      <th>min_dist</th>\n",
       "    </tr>\n",
       "    <tr>\n",
       "      <th>ID</th>\n",
       "      <th></th>\n",
       "      <th></th>\n",
       "      <th></th>\n",
       "    </tr>\n",
       "  </thead>\n",
       "  <tbody>\n",
       "    <tr>\n",
       "      <th>1</th>\n",
       "      <td>-2.0</td>\n",
       "      <td>0.0</td>\n",
       "      <td>C</td>\n",
       "    </tr>\n",
       "    <tr>\n",
       "      <th>2</th>\n",
       "      <td>-0.5</td>\n",
       "      <td>0.0</td>\n",
       "      <td>B</td>\n",
       "    </tr>\n",
       "  </tbody>\n",
       "</table>\n",
       "</div>"
      ],
      "text/plain": [
       "    lat  lon min_dist\n",
       "ID                   \n",
       "1  -2.0  0.0        C\n",
       "2  -0.5  0.0        B"
      ]
     },
     "execution_count": 11,
     "metadata": {},
     "output_type": "execute_result"
    }
   ],
   "source": [
    "df_1[\"min_dist\"] = df_2.loc[df_2.index[np.argmin(min_distance(df_1, df_2), axis=1)]].index\n",
    "df_1.head()"
   ]
  },
  {
   "cell_type": "markdown",
   "id": "8ea2adea-2efe-41b2-b5a5-acb7e7279955",
   "metadata": {},
   "source": [
    "### Method 2"
   ]
  },
  {
   "cell_type": "code",
   "execution_count": 12,
   "id": "648efec0-3fd6-4298-a8c0-fe920a274384",
   "metadata": {},
   "outputs": [],
   "source": [
    "execution_time = {}\n",
    "for n in range(50):\n",
    "    # get the start time\n",
    "    st = time.time()\n",
    "    \n",
    "    people_to_ppv = []\n",
    "    for i in range(len(people)):\n",
    "        dist = []\n",
    "        people_lat = people.loc[i, 'Lat']\n",
    "        people_lon = people.loc[i, 'Lon']\n",
    "        people_lat = np.deg2rad(people_lat)\n",
    "        people_lon = np.deg2rad(people_lon)\n",
    "        for j in range(len(ppv)):\n",
    "            ppv_lat = ppv.loc[j, 'Lat']\n",
    "            ppv_lon = ppv.loc[j, 'Lon']\n",
    "            ppv_lat = np.deg2rad(ppv_lat)\n",
    "            ppv_lon = np.deg2rad(ppv_lon)\n",
    "            diff_lat = people_lat - ppv_lat\n",
    "            diff_lng = people_lon - ppv_lon\n",
    "            d = np.sin(diff_lat/2)**2 + np.cos(people_lat)*np.cos(ppv_lat) * np.sin(diff_lng/2)**2\n",
    "            dist.append(2 * 6371 * np.arcsin(np.sqrt(d)))\n",
    "            if j+1 == len(ppv):\n",
    "                people_to_ppv.append(np.argmin(dist))\n",
    "    \n",
    "    # get the end time\n",
    "    et = time.time()\n",
    "\n",
    "    # get the execution time\n",
    "    elapsed_time = et - st\n",
    "    execution_time[n+1] = elapsed_time"
   ]
  },
  {
   "cell_type": "code",
   "execution_count": 13,
   "id": "b5879b40-40da-4b81-998a-ace9567f7c0b",
   "metadata": {},
   "outputs": [
    {
     "data": {
      "text/html": [
       "<div>\n",
       "<style scoped>\n",
       "    .dataframe tbody tr th:only-of-type {\n",
       "        vertical-align: middle;\n",
       "    }\n",
       "\n",
       "    .dataframe tbody tr th {\n",
       "        vertical-align: top;\n",
       "    }\n",
       "\n",
       "    .dataframe thead th {\n",
       "        text-align: right;\n",
       "    }\n",
       "</style>\n",
       "<table border=\"1\" class=\"dataframe\">\n",
       "  <thead>\n",
       "    <tr style=\"text-align: right;\">\n",
       "      <th></th>\n",
       "      <th>Lat</th>\n",
       "      <th>Lon</th>\n",
       "      <th>nearest_ppv</th>\n",
       "    </tr>\n",
       "    <tr>\n",
       "      <th>People</th>\n",
       "      <th></th>\n",
       "      <th></th>\n",
       "      <th></th>\n",
       "    </tr>\n",
       "  </thead>\n",
       "  <tbody>\n",
       "    <tr>\n",
       "      <th>0</th>\n",
       "      <td>2.868615</td>\n",
       "      <td>101.673326</td>\n",
       "      <td>0</td>\n",
       "    </tr>\n",
       "    <tr>\n",
       "      <th>1</th>\n",
       "      <td>2.878383</td>\n",
       "      <td>101.607508</td>\n",
       "      <td>44</td>\n",
       "    </tr>\n",
       "    <tr>\n",
       "      <th>2</th>\n",
       "      <td>2.871754</td>\n",
       "      <td>101.599514</td>\n",
       "      <td>44</td>\n",
       "    </tr>\n",
       "    <tr>\n",
       "      <th>3</th>\n",
       "      <td>3.027363</td>\n",
       "      <td>101.652546</td>\n",
       "      <td>2</td>\n",
       "    </tr>\n",
       "    <tr>\n",
       "      <th>4</th>\n",
       "      <td>2.997368</td>\n",
       "      <td>101.626043</td>\n",
       "      <td>19</td>\n",
       "    </tr>\n",
       "  </tbody>\n",
       "</table>\n",
       "</div>"
      ],
      "text/plain": [
       "             Lat         Lon  nearest_ppv\n",
       "People                                   \n",
       "0       2.868615  101.673326            0\n",
       "1       2.878383  101.607508           44\n",
       "2       2.871754  101.599514           44\n",
       "3       3.027363  101.652546            2\n",
       "4       2.997368  101.626043           19"
      ]
     },
     "execution_count": 13,
     "metadata": {},
     "output_type": "execute_result"
    }
   ],
   "source": [
    "people[\"nearest_ppv\"] = ppv.loc[ppv.index[np.array(people_to_ppv)]].index\n",
    "people.head()"
   ]
  },
  {
   "cell_type": "code",
   "execution_count": 14,
   "id": "55518c29-3c7f-40d0-8b1d-2f6eac2c8669",
   "metadata": {},
   "outputs": [],
   "source": [
    "df_execution_time = pd.DataFrame.from_dict(execution_time, orient='index', columns=['Time'])"
   ]
  },
  {
   "cell_type": "code",
   "execution_count": 15,
   "id": "41a4a370-5046-4a14-8f95-272e732e97ec",
   "metadata": {},
   "outputs": [],
   "source": [
    "people.to_csv('people_to_ppv_2.csv')"
   ]
  },
  {
   "cell_type": "code",
   "execution_count": 16,
   "id": "4f0ac1be-ca6a-433f-8fb7-d1849470c411",
   "metadata": {},
   "outputs": [],
   "source": [
    "df_execution_time.to_csv('execution_time_2.csv')"
   ]
  },
  {
   "cell_type": "markdown",
   "id": "f4a6425f-ea09-4ae0-aad5-4132283903d3",
   "metadata": {},
   "source": [
    "### Method 3"
   ]
  },
  {
   "cell_type": "code",
   "execution_count": 17,
   "id": "3e61a022-5667-49da-a857-44722b2691e3",
   "metadata": {},
   "outputs": [],
   "source": [
    "execution_time = {}\n",
    "for n in range(50):\n",
    "    # get the start time\n",
    "    st = time.time()\n",
    "    \n",
    "    people_to_ppv = np.empty(len(people), dtype=int)\n",
    "    i = 0\n",
    "    while i < len(people):\n",
    "        dist = np.empty(len(ppv))\n",
    "        people_lat = people.loc[i, 'Lat']\n",
    "        people_lon = people.loc[i, 'Lon']\n",
    "        people_lat = np.deg2rad(people_lat)\n",
    "        people_lon = np.deg2rad(people_lon)\n",
    "        i += 1 \n",
    "        j = 0\n",
    "        while j < len(ppv):\n",
    "            ppv_lat = ppv.loc[j, 'Lat']\n",
    "            ppv_lon = ppv.loc[j, 'Lon']\n",
    "            ppv_lat = np.deg2rad(ppv_lat)\n",
    "            ppv_lon = np.deg2rad(ppv_lon)\n",
    "            diff_lat = people_lat - ppv_lat\n",
    "            diff_lng = people_lon - ppv_lon\n",
    "            d = np.sin(diff_lat/2)**2 + np.cos(people_lat)*np.cos(ppv_lat) * np.sin(diff_lng/2)**2\n",
    "            dist[j] = 2 * 6371 * np.arcsin(np.sqrt(d))\n",
    "            j += 1\n",
    "            if j == len(ppv):\n",
    "                people_to_ppv[i-1] = np.argmin(dist)\n",
    "            \n",
    "    # get the end time\n",
    "    et = time.time()\n",
    "\n",
    "    # get the execution time\n",
    "    elapsed_time = et - st\n",
    "    execution_time[n+1] = elapsed_time"
   ]
  },
  {
   "cell_type": "code",
   "execution_count": 18,
   "id": "27fca01e-5089-4d10-aebd-ae080e4b4172",
   "metadata": {},
   "outputs": [
    {
     "data": {
      "text/html": [
       "<div>\n",
       "<style scoped>\n",
       "    .dataframe tbody tr th:only-of-type {\n",
       "        vertical-align: middle;\n",
       "    }\n",
       "\n",
       "    .dataframe tbody tr th {\n",
       "        vertical-align: top;\n",
       "    }\n",
       "\n",
       "    .dataframe thead th {\n",
       "        text-align: right;\n",
       "    }\n",
       "</style>\n",
       "<table border=\"1\" class=\"dataframe\">\n",
       "  <thead>\n",
       "    <tr style=\"text-align: right;\">\n",
       "      <th></th>\n",
       "      <th>Lat</th>\n",
       "      <th>Lon</th>\n",
       "      <th>nearest_ppv</th>\n",
       "    </tr>\n",
       "    <tr>\n",
       "      <th>People</th>\n",
       "      <th></th>\n",
       "      <th></th>\n",
       "      <th></th>\n",
       "    </tr>\n",
       "  </thead>\n",
       "  <tbody>\n",
       "    <tr>\n",
       "      <th>0</th>\n",
       "      <td>2.868615</td>\n",
       "      <td>101.673326</td>\n",
       "      <td>0</td>\n",
       "    </tr>\n",
       "    <tr>\n",
       "      <th>1</th>\n",
       "      <td>2.878383</td>\n",
       "      <td>101.607508</td>\n",
       "      <td>44</td>\n",
       "    </tr>\n",
       "    <tr>\n",
       "      <th>2</th>\n",
       "      <td>2.871754</td>\n",
       "      <td>101.599514</td>\n",
       "      <td>44</td>\n",
       "    </tr>\n",
       "    <tr>\n",
       "      <th>3</th>\n",
       "      <td>3.027363</td>\n",
       "      <td>101.652546</td>\n",
       "      <td>2</td>\n",
       "    </tr>\n",
       "    <tr>\n",
       "      <th>4</th>\n",
       "      <td>2.997368</td>\n",
       "      <td>101.626043</td>\n",
       "      <td>19</td>\n",
       "    </tr>\n",
       "  </tbody>\n",
       "</table>\n",
       "</div>"
      ],
      "text/plain": [
       "             Lat         Lon  nearest_ppv\n",
       "People                                   \n",
       "0       2.868615  101.673326            0\n",
       "1       2.878383  101.607508           44\n",
       "2       2.871754  101.599514           44\n",
       "3       3.027363  101.652546            2\n",
       "4       2.997368  101.626043           19"
      ]
     },
     "execution_count": 18,
     "metadata": {},
     "output_type": "execute_result"
    }
   ],
   "source": [
    "people[\"nearest_ppv\"] = ppv.loc[ppv.index[people_to_ppv]].index\n",
    "people.head()"
   ]
  },
  {
   "cell_type": "code",
   "execution_count": 19,
   "id": "7b35a1ba-3978-4c34-90b5-9f88eca596ac",
   "metadata": {},
   "outputs": [],
   "source": [
    "df_execution_time = pd.DataFrame.from_dict(execution_time, orient='index', columns=['Time'])"
   ]
  },
  {
   "cell_type": "code",
   "execution_count": 20,
   "id": "84d968bc-5f6f-4ce1-bae5-e20d03f1f88d",
   "metadata": {},
   "outputs": [],
   "source": [
    "people.to_csv('people_to_ppv_3.csv')"
   ]
  },
  {
   "cell_type": "code",
   "execution_count": 21,
   "id": "615f0dd7-8e49-41e8-8439-19c4f6887583",
   "metadata": {},
   "outputs": [],
   "source": [
    "df_execution_time.to_csv('execution_time_3.csv')"
   ]
  }
 ],
 "metadata": {
  "kernelspec": {
   "display_name": "Python 3 (ipykernel)",
   "language": "python",
   "name": "python3"
  },
  "language_info": {
   "codemirror_mode": {
    "name": "ipython",
    "version": 3
   },
   "file_extension": ".py",
   "mimetype": "text/x-python",
   "name": "python",
   "nbconvert_exporter": "python",
   "pygments_lexer": "ipython3",
   "version": "3.9.7"
  }
 },
 "nbformat": 4,
 "nbformat_minor": 5
}
